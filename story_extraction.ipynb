{
  "cells": [
    {
      "attachments": {},
      "cell_type": "markdown",
      "metadata": {},
      "source": [
        "# Extract stories from json files using first words and last words "
      ]
    },
    {
      "cell_type": "code",
      "execution_count": 1,
      "metadata": {
        "id": "tPDDVcgjnxc6"
      },
      "outputs": [],
      "source": [
        "import numpy as np\n",
        "import pandas as pd"
      ]
    },
    {
      "cell_type": "code",
      "execution_count": 2,
      "metadata": {
        "colab": {
          "base_uri": "https://localhost:8080/"
        },
        "id": "gp1m4nP-n2xK",
        "outputId": "71c7d3ab-1400-4b08-ab51-381fce92ac96"
      },
      "outputs": [
        {
          "name": "stdout",
          "output_type": "stream",
          "text": [
            "Mounted at /content/drive\n"
          ]
        }
      ],
      "source": [
        "# from google.colab import drive\n",
        "# drive.mount('/content/drive')"
      ]
    },
    {
      "attachments": {},
      "cell_type": "markdown",
      "metadata": {
        "id": "UCdW8hvwoXqC"
      },
      "source": [
        "### read stories file"
      ]
    },
    {
      "cell_type": "code",
      "execution_count": 3,
      "metadata": {
        "id": "OUROTCqPoNpW"
      },
      "outputs": [],
      "source": [
        "# df =  pd.read_csv('/content/drive/MyDrive/topic extraction/data/to_fill.csv')"
      ]
    },
    {
      "cell_type": "code",
      "execution_count": 3,
      "metadata": {},
      "outputs": [],
      "source": [
        "df =  pd.read_csv(r'D:/______________projects/topic/data/to_fill.csv')"
      ]
    },
    {
      "attachments": {},
      "cell_type": "markdown",
      "metadata": {
        "id": "23dj4KvBoc8K"
      },
      "source": [
        "### read json 18246 file"
      ]
    },
    {
      "cell_type": "code",
      "execution_count": 8,
      "metadata": {
        "colab": {
          "base_uri": "https://localhost:8080/"
        },
        "id": "JoSlgS9Tn5X3",
        "outputId": "8afdfc38-68ae-4a9b-d1e4-578d23b24f21"
      },
      "outputs": [
        {
          "name": "stdout",
          "output_type": "stream",
          "text": [
            "And that's just what Guy Al has done. She takes the lead in opening the conversation in her community. What is your message to other parents? Silence is not going to save lives. Good advice there and conversation to have. You know it. All right, the News at Seven starts. Right now this hour on the Pixel Morning News how loved ones and those who serve the community alongside Alison Brusso Ellis Elling will pay tribute to her life today. Plus, the NYPD, still searching for the person who killed and dismembered a Brooklyn woman will tell you who they are. Speaking for questioning now. And the president will be touring areas impacted by the recent hurricanes when he'll be heading to Florida and Puerto Rico. The news at seven starts right now. Live from 42nd and Second, this is New York's very own pixel morning news. All right. Cloudy skies out there, kind of wet and a little bit of raw. Yeah. Good morning. Thank you for joining the Pixel Morning News. Today is Monday, October 3. I'm Craig Treadway, sitting in for Dan Manorino. And I'm Hazel Sanchez, and you're never more than ten minutes from weather and traffic. We've got Alex Lee standing by taking a look at your roads and rails on this Monday morning. Let's get straight to your forecast up with myron I got good news for. You all the way around. Are you ready? Are you excited about an 80? Oh, come on, that's not funny. No, I'm forecasting an 80, absolutely. So get excited about that. I know folks are a little unhappy about all the rain we've seen this weekend and the cool temperatures, but we need the rain, and a lot of folks want the rain. Look at the yellows here associated with this area of low pressure. The remnants now of Ian bringing us rain from the Bronx, brooklyn Stateline, Queens, Manhattan East weatherford edgewater. If you're in hoboken weehawk in Arlington Union City into Bayonne Light to moderate rain. Without the umbrella, you'll get soaked in about five minutes. It's like that over Bushwick in about three minutes. But the low is with us for a while, and as long as it's with us, it's going to bring us a chance of showers. You see the low, the counterclockwise rotation of the low right there, and you see the northeast winds. That's bringing an onshore flow and bringing us cooler temperatures. At this hour, the winds are somewhere between ten to 20 miles an hour sustained, and our temperatures are in the mid forty s to the low 50s. But we feel colder than that. And all day today we have the chance of rain off and on and feeling like 55. But when I come back, we are going to talk about an 80 possibly in the forecast. Alex, that's something to get happy about. Wow. Okay. All right. Looking forward to that, Byron. Thank you so much. Cross County Parkway. We have some heavy traffic on the westbound ride come in and exit six for the Bronx River Parkway. Crash here blocks the right lane. So you'll see that we have delays on the Hot southbound coming into this area as well, where we've got some very heavy traffic now. A bit further south standstill traffic essentially Bronx River Parkway southbound into exit seven for Pellum Parkway. Nothing being reported, but we are seeing delays kind of come to a halt here. So we do believe there's something going on. And look at those delays nearby on the Deegan. Those are slow south bound right down through and past the Cross Bronx Expressway. We'll take a live look at the Grand Central Parkway outside of LaGuardia Airport. So on the westbound side here, you could see these delays that we have passing by LaGuardia. They are still reporting that there is a disabled vehicle probably just off the screen here. So that's the reason behind those delays. It's going to be heavy getting down towards the BQE. Craig and Hazel, back to you guys. All right. Well happening today. Friends and family of the veteran first responder who was killed in an unprovoked stabbing last week will pay their respects. The wait for 61 yearold Lieutenant Alison Russo Elling will be held today in the Comic Abbey Funeral Home in Suffolk County. Pixel Evans. Rebecca Solomon is on Long Island with More. Good morning. FDNY EMS worker Alison Brussels served the department for nearly 25 years, and she was getting ready to retire. She also served in the 911 terror attacks as a first responder. Now police are continuing their investigation into the stabbing. We know so many people are remembering this woman who were told lit up a room when she walked in and was full of life. A life taken too soon. Last Thursday, around 220 in the afternoon, EMT Lieutenant Alison Russo stepped outside of her station house in Queens near 20th Avenue and 44th street, according to authorities. That's when 34 year old Peter Zasapolis allegedly went on a vicious, unprovoked attack, stabbing Russo two dozen times. Police say Zosopolis was then chased by witnesses into his apartment, where he barricaded himself. Eventually, he was taken into custody and charged with murder and criminal possession of a weapon. Members of the FDNY are mourning the loss of their comrade, who loved helping people. She was also a volunteer for her local ambulance corps. Her friends and fellow first responders remember Russo as a woman who loved her job in serving others. It really has sent shockwaves through our entire organization. Really a spitfire. She has a great personality. Just like lit up a room when she came in. It's overwhelming. I'm still in shock. Lieutenant Russo is the 1158 member of the FDNY to die in the line of duty and the second member of EMS to die in the line of duty in the last five years. And Russo's wake will take place a little bit later on this morning. Here in Comic around 02:00. We're also told Mayor Eric Adams will be paying his respects to Russo's family as well. Meanwhile, the suspected killer remains in the hospital in Comc, Long Island. I'm Rebecca Solomon. Pixel, evan news detectives are searching for six people they say may have witnessed the horrific murder of a 22 year old Brooklyn woman. Judy Deja Johnson's remains were found inside two suitcases in her home last month. Let's check in with Pixel Evans, Karen Dylan, who's joining us live outside police headquarters with the very latest this morning. Karen? Hi. Good morning. Craig and Hazel was just a horribly, horribly sad story out of Brooklyn. Really tragic for Deja Johnson's family and friends. Now we know that her body was found inside of two suitcases inside of her own apartment in Cypress Hills nearly two weeks ago. And now police are asking for your help and figuring out what happened to her. Take a look at these images. On Sunday, detectives released these pictures of five women and one man who police believe may have been witnesses to the crime. Johnson's remains were found inside two suitcases on September 21 by officers who were performing a wellness check in her apartment. The building super had noticed a foul odor and let people in to check on the woman. Now, early on, police sources and neighbors told Pixel Eleven that investigators were looking for the victim's boyfriend and possibly an accomplice in connection to the case. Police have yet to confirm those details. Arguing, banging, lost off, regular stuff. But like I said, if you try to interrupt or something like that, you're just putting yourself in a problem you can't solve. Somebody gets hit very hard in the mouth, right, the bloodshed will lead from the door to the elevator. So right now, official cause of death has yet to be released. We are still waiting for an update from the medical examiner's office. Meantime, if you would like to look at those images of these potential witnesses one more time, you can head to our website, pixelven.com. Once again, anyone with any information is asked to call police. For now, we are live outside police headquarters in Lower Manhattan. I'll send it back to you guys. All right, Karen. Thank you. Well knew. This morning police need your help finding the group behind a string of violent robberies in the Bronx. Investigators are looking for the five suspects you see in these surveillance images. And they say two of the incidents happened just minutes apart on August 18. The first near Olenville Avenue and Waits Place. That's where five people beat a man before stealing his iPhone. Five minutes later, just before midnight, the same group attacked a 47 year old man on Brocks Park East, stealing his backpack. And police say in a third robbery on August 29 at the same location, the suspects robbed a man at gunpoint, beating him and stealing his cell phone. Emergency crews in Florida continue to search for survivors of last week's category four hurricane. The death toll from Hurricane Ian now stands at 76, and officials say it will likely climb. The Orange County Sheriff's Department in Orlando posted this video of deputy saving a woman whose car was swept away in floodwaters. As you can see, they formed a human chain and used a rope to bring her to safety. Kurzner also working to restore power to Florida in Florida to more than 850,000 homes. And National Guard teams are also on the ground in the Carolinas, where the cleanup is just getting started. There. President Biden approved emergency declarations in both north and South Carolina. Fasttracking federal aid. And today, president Joe Biden and first lady Jill Biden will survey damage in Puerto Rico more than two weeks after hurricane Fiona struck. Right now, New York City Department of Emergency Management personnel are working side by side with local first responders. While it's estimated rebuilding efforts will take years to complete, crews have been doing what they can to canvass the area, remove debris, and clear fallen trees. Helping with recovery efforts is a new data sharing system, OEM setup. It streamlines communications between New York City and Puerto Rico. New York. Emergency staff will remain in Puerto Rico through Thursday. The President will travel to Florida on Wednesday to view the destruction caused by Hurricane Ian. A man died after falling from an escalator after yesterday's jets dealers game. Authorities say it happened at Akersore Stadium in Pittsburgh just after the game ended yesterday afternoon. Paramedics treated him at the stadium, but he later died from his injuries at an area hospital. Officials have not released his name or what led to that fall. In the last month, there have been numerous data breaches at several major companies and agencies impacting our area, and among them, the Suffolk County Government Center, uber, DoorDash, American Airlines, and, uhaul, some of the others. Many New Yorkers are completely unaware of those cyber attacks. The concerns like our privacy. It's funny because we use Uber all the time nowadays. And some people, like me, I fly American Airlines. So it's like, is our data really secure or not? We don't know who these hackers are right now. Is it a private entity that's selling this information? Could it be, who knows, a government agency like Russia or Iran that wants to do havoc in America, particularly during these difficult times? Well, Senator Schumer is calling on the Federal Trade Commission to step up enforcement of cybersecurity and ensure companies are doing everything they can to protect consumer data. He's also called on the Department of justice to go after these hackers, giving special attention to Suffolk County. He pointed out the danger posed when Suffolk officials had to shut down all computers, county computers, rather, including the 911 emergency dispatch system. Cyber defense experts say tougher laws and federal laws are necessary to crack down on those hackers. The grandson of Nelson Mandela will be in New York today advocating for nonviolence. And David Mandela will address hundreds of high school students in Brooklyn and on Long Island, calling for an end to violence crime in our area as well as across the country. Mandela's visit comes as the most.\n"
          ]
        }
      ],
      "source": [
        "import json\n",
        "\n",
        "# Opening JSON file\n",
        "# f = open('/content/drive/MyDrive/topic extraction/data/18246.json')\n",
        "f = open(r'D:/______________projects/topic/data/18246.json')\n",
        "\n",
        "# returns JSON object as\n",
        "# a dictionary\n",
        "data_18246 = json.load(f)\n",
        "\n",
        "print(data_18246['text'])\n",
        "# Closing file\n",
        "f.close()\n"
      ]
    },
    {
      "attachments": {},
      "cell_type": "markdown",
      "metadata": {
        "id": "1FvxJJ_Uq6Qu"
      },
      "source": [
        "### read json 12387 file"
      ]
    },
    {
      "cell_type": "code",
      "execution_count": 10,
      "metadata": {
        "colab": {
          "base_uri": "https://localhost:8080/"
        },
        "id": "ZAh8FuaLyYZB",
        "outputId": "ad23806b-b898-4552-b032-6ca8492c0329"
      },
      "outputs": [
        {
          "name": "stdout",
          "output_type": "stream",
          "text": [
            "Bit unusual. Ktv crime reporter Henry Lee joining us live tonight from Lafayette after speaking with postal inspectors. Henry? Yes, this attack happened in the middle of the day right outside his office building along highway 24. Now postal inspectors are looking looking for two men, an unprovovoked attack of a letter carrier making her rounds in Lafayette. The letter carrier was assaulted and robbed on her route around 1230 this afternoon. It happened outside this office building on Camino Diablo off highway 24 in Lafayette. I've learned that the victim was apparently followed here by two men, at least one of whom was armed with a gun. She was hit in the head with the weapon. She was very shocked and traumatized and she had blood all over her shirt. And so ambulance came and took her away. The postal carrier was taken to hospital for injuries that were not life threatening. Chris Finn works in the building. He says the victim regularly delivers mail to the complex on Mondays. Very nice woman. She did have our route for a while and she just seemed very nice. Witnesses say they were after her. Postal keys. Thieves can use these master keys to access mailboxes to steal mail. This is an unacceptable way to treat people. Postal workers work hard and we want that message to get out there. There's a $50,000 reward for tips in this case. Anyone with information is asked to call postal inspectors live in Lafayette. Henry Lake KTVU, Fox two News. Big reward for an aggressive crime. Middle of the day right there. All right, Henry, thank you. San Jose police say a security guard trying to protect a woman during a domestic dispute was shot and killed during a triple shooting. It happened at a sprawling apartment complex in the 300 block of Crescent Village Circle in North San Jose, not far from Zanker Road and East Tasman Drive. Ktv is Jesse Gary live now in North San Jose with new information on the case. Jesse. Julie, good evening to you. Residents here say the most they've had to deal with car break inside, not even on their radar. Investigators say the incident with the married couple took place in the parking lot behind me. Ultimately, witnesses tell me the security guard died trying to do the right thing. It's really sad and scary that people have access to guns so easily that a domestic dispute could lead to loss of life so quickly. Resident Vishnu Mihala lives one floor above the murder scene at the Crescent Village apartment complex in North San Jose. He says his wife heard gunshots early Sunday morning and he awoke to hear the final shot Monday. San Jose police investigator saying a domestic dispute between a husband and wife turned deadly when an apartment security guard intervened. I'm sure he's trying to do the right thing right. See somebody in distress and wants to go help and intervene. And unfortunately, the suspect committed a very heinous act and killed him. Detectives say after the suspect killed a security guard, he shot and killed his wife and then took his own life. The triple loss of life taking place in an exterior parking lot of the Tony apartment complex is unnerving for some neighbors. I was pretty afraid. Honestly, it's kind of shaking. Seems like a very random act, and that's not something you want to see anyway. But feel for the victims, of course. One resident says the murdered guard patrol the complex parallel to Zanker Road and Bellagio Street. He was a very nice guy and he used to basically be responsible to make sure nobody got through this door. Like if he saw somebody trying to stay here for too long and not able to get in, he would come and say, what's going on? Who are you? Monday apartment complex general manager Kim Robinson emailed a statement to Fox Two which says our entire team is deeply saddened by the lives that were lost in this tragic incident. And our thoughts are with their families. We are offering counseling to our employees during this difficult time. Investigators say the couple had six children, ages twelve months to ten years. The kids are staying with their maternal grandmother as detectives try to unravel how our marital dispute led to three deaths. Looking down from there every day now, we don't know. Even after a week or ten days or a month, we'll ever be like, look at it in a normal way. Detectives are gathering video surveillance evidence as well as witness statements to try to determine what led up to the initial conflict, which drew the guard to the parking lot. The names of the couple and the guard not released yet by the Santa Clara County coroner's office. We're live in North San Jose. Jesse. Gary KPU, Fox News. Julie will head back to you above. All right, Jesse, thank you. And San Jose police just announcing today an arrest in a homicide back in March. Police say 31 year old Ryan Spencer is in custody in Chicago for the deadly shooting of an Antioch man. That shooting happened on March 27, around 03:00 in the morning in the area of South Fourth Street and East San Carlos Street near San Jose. State Police say the arrest warrant was issued last month. Detectives just flew out there last week to interview him. He was already in custody on a previous arrest for domestic violence charges in Chicago. Right now, he still remains in Chicago in custody for that domestic violence charge. And he's waiting a formal extradition back to our county to face homicide charges. Authorities did not reveal a motive for the deadly shooting. Surveillance video shows how a car thief dragged someone to get away with a vehicle in Oakland. It happened in Oakland's, Chinatown, your 8th and Jackson. You can see someone walk up to a car and get inside. Shortly after that, the car's owner rushes back to the vehicle and opens the door. The thief then took off in the car, dragging that owner a short distance. The victim was left with cuts and scrapes. Oakland police say if you have any information about this case, please give them a call. San Francisco firefighters rescued a man right near the Cliff house. They say he fell over this ledge here early this morning. If you're not familiar with the area, this is kind of just north end of Ocean Beach. You could see the firefighters. They're able to use their ropes and pull that man up about 20ft from the cement barrier down below. Now they say it could have been much worse. It was just about a foot or two away from going even farther down below, all the way down to the ocean. All right. Turning to the busy Bay Area night in sports, here is a live look right now from SkyFOX, you can see the traffic conditions right now are not that bad given the busy night that we're about to have here in the Bay Area when it comes to sports. We were thinking earlier if you didn't need to be on the Bay Bridge, it might be a good idea to stay away from the downtown area. But again, we were just checking our live traffic cameras. And it's not that bad, maybe because everyone's taking mass transit to get to the games tonight or because they're just staying home to watch it on TV. Now the Giants are hosting the Kansas City Royals at Oracle Park, and the warriors are playing the Boston Celtics in game five of the NBA Finals. And the winner of tonight's game will be one win away from a Championship. And with tip off now less than an hour away, it's time to begin our team coverage. Ktv is Amber Lee with fans at Thrive City. But first, let's go courtside inside Chase Center with our Joe Fonzie. Joe, how's it going? Hi, Julie. What you said is pretty simple. It's now down to three games, and whoever wins two of those three is the NBA champion. If the warriors can win it, that would be four Championships in eight years. And that's the type of stuff that you talk about when you say dynasties, especially given the fact that they missed two years of playoffs. And one of the major reasons that they were not in the playoffs for two years was what happened to Clay Thompson. He was injured in that Toronto Raptors series that the Raptors won in six games, the fifth consecutive trip to the Finals for the warriors and then two years of rehab for Clay. So we've been talking about that anniversary. It was three years ago, but another anniversary. It's very interesting that was brought up tonight. It was 25 years ago that the Warrior coach, Steve Kerr hit a shot that gave the Chicago Bulls a win over the Utah Jazz with 5 seconds left. That was the fifth of the Bulls six Championships. They did that in eight years. So another dynasty. And obviously when guys are around each other as much as they are in a series like that, topics come up like that. And Kerr was asked tonight to reflect on that moment in his career. The finals or the Finals, whether you're playing or you're coaching, it's the ultimate competition in the world of basketball. So there's a lot of nerves and a lot of excitement and a lot of stress and all that stuff. And I think my experience as a player has definitely helped me prepare to coach a team in the finals because I know what these guys are feeling. And you can see that we're counting down to tip off right now that's Clay Thompson out there going through his pregame routine. And I know that he's hoping that he doesn't have too many of those clients like that if he was trying for a three pointer there in his warmups. But as I said, guys, it's very simple now. It's just whoever wins two games and you have three opportunities to do that. The other thing that has been kind of a characteristic of this series, neither team has taken full advantage of home court advantage. They've split the two games here. They split the two games in Boston. It's home court advantage now to the warriors again. They've regained that. They take care of business at home. They're Champions. So that's where we stand right now. Both teams want to try to make a big step and win that third game with an eventual four necessary to be a champion guy. Yeah. And Joe, we were talking a little bit about this last night at Draymond Green, Steph Curry, Clay Thompson. They haven't really seemed to be quite in sync like they have been in previous series. Do you think we might see them come out altogether tonight? And if so, they're going to be a tough match up against the Celtics. Yes, no question about that. Julie, I was in Boston for games three and four and obviously like to listen to what the talk radio is saying in the hometown there. And they were saying we saw what Steph Curry did in game four. He had 43 points. Draymond has not had his best games. Clay had 18 in that game and had that big shot that gave them the lead. But I think you could say we have not seen vintage Clay Thompson or Drama Green yet in this series. And what the people in Boston fear, they know what Curry is if they get vintage of those other two guys, not to mention what Andrew Wiggins and Jordan Poole and Kevin Looney bring to the picture, they're afraid of the warriors, but so far, the warriors haven't gotten that. We'll see if they get it tonight. All right. A lot of warriors fans hoping they do get it tonight, and we will all be watching. Joe, thank you. And for those without a ticket inside the arena, there is plenty of space for fans just outside and thrive city. That's where we find KTVs, Amber, Lee and Amber. Can you feel the energy building out there? Absolutely. It's on a whole different level when we're talking about the finals. Game five. Now there is a mood of nervous energy out here. I want to show you what it looks like here at thrive city. The door is open to fans at 430. Fans are still arriving. Those who don't have tickets will be watching here at thrive city. On that huge screen you see up there, fans are eager to see the warrior take the lead in the finals for the first time in this series. I love it. Is it infectious? Everyone's stressed up. It's loud and we're all ready to go. Drove an hour or something to get here. It's a good vibe. We are here with other people. We all want the same thing. A lot of other words, fans and. It'S this game is game five. This is a crucial game. Many would say it's not must win, but it's must win. It's time to make this thing happen.\n"
          ]
        }
      ],
      "source": [
        "import json\n",
        "\n",
        "# Opening JSON file\n",
        "# f = open('/content/drive/MyDrive/topic extraction/data/12387.json')\n",
        "f = open(r'D:/______________projects/topic/data/12387.json')\n",
        "\n",
        "# returns JSON object as\n",
        "# a dictionary\n",
        "data_12387 = json.load(f)\n",
        "\n",
        "print(data_12387['text'])\n",
        "# Closing file\n",
        "f.close()\n"
      ]
    },
    {
      "attachments": {},
      "cell_type": "markdown",
      "metadata": {
        "id": "DIh_RehLq_m7"
      },
      "source": [
        "### read json 16859 file"
      ]
    },
    {
      "cell_type": "code",
      "execution_count": 11,
      "metadata": {
        "colab": {
          "base_uri": "https://localhost:8080/"
        },
        "id": "SHM7DL7PyX9c",
        "outputId": "054c5055-9e33-4d2d-bf5d-f958fc3d8d49"
      },
      "outputs": [
        {
          "name": "stdout",
          "output_type": "stream",
          "text": [
            "Yesterday. We're on 115 for those hot spots, so this isn't quite as bad. The problem is that today's temperature is still plenty hot and we're going to go up again for tomorrow. So temperatures are going to return to the eighties around the bay, about ten to 15 degrees above average average, but closer to 20 degrees above average farther inland. So up to around 100 degrees in San Jose and closer to 110 degrees in Concord. One more day of extreme heat. The excessive heat warning continues inland through 08:00 on Thursday. Temperatures are going to range from around 100 in San Jose to about 115 degrees for the hot spots inland in the east bay. And the heat advisory around the bay and in the coastal range of Marin County also continues to 08:00 on Thursday. These temperatures aren't going to be quite as hot, but anybody with any heat related sensitivity in terms of health problems may have some issues during the hottest part of the day on Thursday even around the bay. The good news is there is a cool down that's around the corner. As we head through the weekend into next week. We will track that coming up in the full forecast. Nice to hear some relief is on the way. Thank you, Paul. Meanwhile, the state set a record in energy demand yesterday at 52,061 isn't too far behind. We were, however, able to narrowly avoid rolling blackouts. State energy officials and governor newsom are crediting Californians for cutting back just enough yesterday to keep the grid from getting. Overwhelmed over the next two days. We're still going to have to be mindful of work yet to be done. That said, what folks were able to accomplish last night through conservation, some 4000 conservation is extraordinary. But even though the state never ordered rolling blackouts, some bay area neighborhoods did see their power cut. Hillsborough, Alameda and Palo Alto all shut off power to some customers. Kpxy. Sarah Dante is live in Alameda. Explain why officials in those cities say it's not their fault. A lot of finger pointing happening here today. Ryan with this story. So again, those rolling blackouts that happened, it turns out all of those were a mistake. A very costly, in some cases uncomfortable mistake. And we spent much of the day trying to figure out exactly what went wrong. Running a restaurant in the dark isn't just difficult, it's impossible. Just ask Stephanie. We can't take any card we don't have ride inside. So it's all dot her Alameda restaurant had the power cut off during its typically busy dinner hour, forcing them to close early. Customers were told it was part of a rolling blackout, but now it appears that was a mistake. Crazy. And we lost some more money. Yeah, that's it. Alameda along with yieldsburg and Palo Alto began rolling blackouts during Tuesday's statewide power crunch, leaving thousands without power during blazing heat. But Calyzo now says that was a miscommunication and that they simply asked utilities to be prepared. A direct request was for arming a firm load. As we conveyed to all the other utilities in California at that time, we had not progressed to rotating outages. And so I don't know, honestly, this morning exactly what happened there, but we will be in touch and certainly we're going to be doubling down our communication. Alameda Municipal Power says the Northern California Power Agency, a nonprofit that oversees several Northern California utilities, told it to begin load shedding operations. Experts say this is how the process normally goes. The grid operator makes the determination that it really doesn't want to make, that rolling blackouts needs to be called for. But the grid operator doesn't actually implement those blackouts. They have to talk to the utilities and ask them to put the blackouts in place. But Cal ISO points to a mix up between its dispatchers and those from the Northern California Power Agency that apparently led to some mixed messaging and the power unnecessarily being shut off for thousands. These are situations that obviously happen very infrequently, and there was a lot happening on the grid for everybody last night. And so we'll double down on the communication, make sure that doesn't happen again. So we just heard back from Northern California Power Agency who sent a very long statement and essentially said that, yes, their dispatcher misunderstood, gave the wrong orders, and that's what led to these blackouts. They also, interestingly enough, took time to give themselves something of a pat on the back, saying because they did this while it was an accident, it may have inadvertently helped the state manage their load. Of course, I'm not sure how the thousands of people here would feel since their power got cut out needlessly. We'll send it back to you guys in the studio. Yes. I don't know if that's a consolation prize to say way to go. You helped everyone else out when their business is suffering and has been suffering for a while now. All right, Sarah. Thank you. In this extreme weather or not, everyone could avoid the heat. API exwife max Darrow is live in Santa Clara, and he talked to some folks who make their living out in the sun. Max, what did you find out? Even though this stretch of Winchester Boulevard wasn't the hottest spot in all of the Bay Area, it was really hot. If you're literally on the road like these construction workers here, they're glad to be here, making the road a better place for everybody, despite the extreme heat. We'Re going through cutting all the old asphalt out. And then next week we'll be coming in and laying down new asphalt. For Henry Harrow and his coworkers, a hard day's work along Winchester Boulevard and Santa Clara didn't include AC, but it did include an extra dose of heat. You just have to be resilient. You have to keep a strong mindset and tell yourself that you're going to get through it. As long as you stay hydrated, you should be fine. I'm drinking at least five bottles of water and like, three or four Gatorades. But to a degree, he feels like he lucked out with his assignment for the day. I'm not on the jackhammer like I was yesterday, so that was honestly more challenging based being that the tool gets really hot being next to the hot asphalt, because it has to be hot to be able to be malleable. Yeah, I'd say it's about 20 degrees hotter. So at 110 out here, it would be 130 right next to it. Yeah, it's pretty brutal. He wore a variety of hats on Wednesday as his coworkers took these rigs up and down Winchester all day, raving the heat with every go. This is in a cakewalk. It takes a certain type of person to do this. But despite the intense heat and the tough working conditions, harrow says others have it even harder than he does during this heat wave. Honestly, this is easy compared to other. Trades as well, and he's glad he's able to help make this stretch of road a better one for everyone. So if you get stuck in traffic because of one of these road projects, just remember you're sitting in your car, likely with air conditioning on, realize you don't have it quite as bad as these crews do. And let me tell you, they've been out here all day. Ryan? Yeah, definitely hard at work out there. Well, this is the critical hour, and we're keeping a very close eye on the state's power grid on KPIX.com. Our power stories show you how to see if you are at risk for a rolling blackout. All right, now to another developing story we've been following all day out of Dublin. An Alameda County sheriff's deputy, a man who swore to uphold the law, is now in custody for a double murder. KPI Xi Anne Mcevic joins us now with details on the shooting that has left the Sheriff's department stunned tonight. Yeah, the one thing we do know is that this was not a random crime. The suspect did know the people that he is accused of killing, but investigators still are not sure what led him into their home this morning. Our agency is in shock. This is not something we deal with. The Alameda County Sheriff's Office says this is the deputy turned murderer, 24 year old Devon Williams Jr. He called police from Koalinga at around noon today. The chief spoke with him for about 45 minutes until the CHP could track him down. It's a great loss for our community, and it's even more disheartening to find out that it was one of our own that actually was the trigger person. Behind this tragic incident. Investigators say Williams got off of a shift at the Santa Rita Jail at eleven last night, then came to this home on Colebrook Lane at one this morning and used his duty firearm to shoot and kill. The married couple living inside. The sheriff's office says there were never any red flags during his one year on the job, nor in his background. He grew up in a very fluent home, well loved, graduated from college with honors, was really a remarkable young person. Before his overtime shift at the jail last night, deputy Williams worked a full day at the courthouse in Oakland. His behavior and interactions will all be a part of the investigation. We believe we'll get the full picture. We believe at some point we'll land on a motive as a reason as to why this happened. We'll slowly get there. Investigators have not yet released the names of the two people who were killed. There were other people in the home at the time who were uninjured, including family members who were visiting, and at least one child. So right now, Williams former coworkers are trying to find the firearm used in this double murder. Williams told them that he ditched it near the altar on Path on his way out of town. Brian. All right, thanks, Ann. And San Leandro police searching for the person who shot a guard and robbed an armored truck. This all happened just before noon, right outside the Kaiser Permanente Medical Center. Police say the guard had just picked up money and was on his way back to the truck. That's when the guard confronted the guard, or the gunman confronted the guard, shooting him in the chest. He was taken to the hospital and is now in critical condition. It looks like a robbery gone bad. I don't know if the robbery happened before the shooting or the shooting happened after the robbery, but they did leave with an undisclosed amount of cash. Police say they're now sifting through all nearby surveillance footage to try to piece together more information. The updated Bivalent Coronavirus booster shot is here. Many people headed to the Santa Clara County Fairgrounds for their dose. The shot will target the dominant almacron strains of the virus. The Pfizer booster is available for those twelve years and older and moderna for 18 and over. We do expect that it will continue to prevent that risk of severe disease, hospitalization and death. And while we've seen that mostly in elderly people and immunocompromised people, there are still some instances of hard to explain cases in younger, healthier people who are not up to date on their vaccinations getting severe illness from coping. And still ahead on KPX Five the Obama's presidential portrait unveiled at the White House. Here from the former first couple on. Their special honor, a Bay Area lawmaker blasting a ruling from a judge in Texas. While he says it could prevent some patients from obtaining lifesaving medicine and nearly. 30 years after a high profile Bay Area murder, the victim's parents makes it their mission to keep their daughter's memory alive and help their community at the same time. Alcohol abuse got you down. Get sober at Mountain Vista Farm. Mountain Vista Farm is the place where you need to be. Hurry into mattress firm's best Labor Day sale ever. Get a king bed for the price of a queen or a queen for a Twin and save up to $700 on top brands like SIRDA and Beauty Rest. Plus, get a free adjustable base with qualifying purchase only at mattress firm. Here we go again. Another special interest ballot proposition. It's Prop. 27. Written and funded by big out of state gambling corporations to legalize a massive expansion of online sports gambling. 27 would turn every cell phone and every laptop in California into a gambling device. And Prop 27 would send 90% of profits out of state and hurt Indian tribes who rely on revenues from in person gaming. Please join more than 50 gaming and non gaming tribes throughout California. Vote no on Prop. 27 at Precision Garage Door. Our technicians can repair your door the same day or order your new garage door. You can rest easy knowing it'll be done right with Precision Garage Doors as we've been around for over 25 years. Precision Door Service. Have you seen my new phone yet? I would never switch to Samsung. I love my phone. You see. I love my phone. I would never switch to Samsung. You might already know that Prop 27 taxes and regulates online sports betting to fund real solutions to the homelessness crisis. So how will that new revenue be spent? New housing units in all 58 counties, including permanent supportive housing, tiny homes, communities, project room key supportive hotel units, and intensive mental health and addiction treatment. In short, 27 means getting people off the streets and into housing. Yes, on 27. Junk sleep got you all jumbled up during mattress firms Labor Day sale. Save up to 60% on top brands like a Sleepy's Mattress, starting at 149 99 and ceiling starting at 279 99. Shop now at mattress firm. All right, heads up. If you're heading into San Francisco, we have a traffic alert to tell you about right now. Bumper to bumper in Mission Bay. It's all due to a big concert at Oracle Park featuring Motley Crew and other 80s rock legends. Worth waiting for. But pack your patience. A lot of hairbands there, okay? A lot of look for San Francisco Chinatown right now where the community is celebrating the 8th annual Chinatown Night Out. The event of Portsmouth Square brings together neighbors and local law enforcement who might not otherwise get the chance to chat. Access to sexual and reproductive health care for more than 150,000,000 Americans could be at risk after a federal judge struck down the Affordable Care Acts requirement for businesses to cover HIV prevention drugs like Prep. The judge said the rule violates the religious freedoms of Christian business owners. Prep is said to lower the user's chance of getting HIV by up to 90%. State Senator Scott Weiner tweeted out this response, saying, apparently people's religious freedom now includes the right to have other people contract HIV. This ruling is outrageous, but not surprising given the emerging racial or excuse me, radical legal doctrine that someone's religious freedom allows them to harm other people. OK, let's give you a live look now. The White House, where two new portraits are now on display. The Obamas were back at the White House today to unveil their official portraits. The Obamas chose their artist Robert McCurdy and Sharon Sprung, both portraits painted entirely from photographs. You'll note that he refused to hide any of my gray hairs, refused my request to make my ears smaller. He also talked me out of wearing a tan suit. What we are seeing is a reminder that there's a place for everyone in this country. That is what this country is about. A pair of earlier portraits were unveiled in 2018 and installed at the Smithsonians National Portrait Gallery. They were recently on display at the Dung Museum in San Francisco. I went to go check those out. These newer pieces will stay in the. White House, and they're extraordinary. Barack Obama's picture portrait looks like a photograph. Yes, it is. So realistic. It's remarkable. And hers is beautiful. It's very romantic, very soft and great colors, but so different, but both amazing. Gorgeous. I'm glad you brought up the old porches because I thought, didn't they have this a couple of years ago? So just different places that they're going to go. Oh, that doesn't change the fact it's still hot around here. Conditioning. Check out some art, check out a movie. Find the AC wherever you can. Another day of extreme heat in store for us tomorrow. Today's temperatures weren't quite as bad as the past couple of days, but those temperatures are going to build back as the heat dump strengthens again tomorrow. One more very hot day. And then things begin to shift as we hit the end of the work weekend. Head into the weekend. The heat dump is going to weaken and what at that point is going to be tropical Storm Kay. It's Hurricane K right now is going to be sneaking up on its closest approach to California. This is going to get curved back out over the Pacific, but it's going to be close enough to send some moisture into Southern California, bringing a flooding threat. After the heat wave to Southern California, some of the moisture is going to make its way up towards the Bay Area in the form of some intermittent cloud cover. But the odds of any shower or thunderstorm threat bringing a dry lightning threat continue to go down. And that's good news. So we're looking at a limited potential for that as we head through the weekend and into early next week. It's not a zero chance, but it's really towards the bottom of the scale. When we look at our storm chances over the next several days, we'll look in more detail at that. Coming up at 530. In the short term, the heat is going to continue. One more day of our excessive heat warning inland. Our heat advisory around the bay both go through 08:00 P.m. On Thursday. Temperatures, especially inland, are going to be even hotter than they were today. Probably not back up to the levels we had yesterday, but still we're going to be flirting with record high temperatures. And it's another day where we're going to have to monitor the air quality. Air quality today was mostly in the good to moderate category. Another day where we had to spare the air alert. But the actual air quality levels didn't reach the threshold for that alert. Nonetheless, the air quality management district has posted another alert for tomorrow, indicating the possibility that maybe the air quality is bad enough to be unhealthy for sensitive groups in them. In the East Bay, in the Santa Clara Valley, we've had an alert every day this week. Every day this week. We fall in short of that threshold. Hopefully more of the same tomorrow. We don't need any additional air quality issues on top of the hot temperatures. And despite the step backward in temperatures today, it's still hot. 96 in San Jose. 98 in Santa Rosa. Right now, 102 and 103 in Concord and in Livermore, San Francisco. Oakland not bad in the around 80 deg temperatures tonight, only back down to the unusually warm tomorrow morning and then usually hot tomorrow afternoon. Let's zoom in for a closer look. Low to mid 70s along the coast. You continue to have comfortable temperatures while the rest of us are cooking into the 90s down the peninsula and around the south end of the bay at or above 100 degrees in the Santa Clara Valley. Exactly 100 with high or record high temperature in San Jose hovering around 110 degrees for most inland parts of the East Bay. The hottest spots getting closer to 115 degrees. Records likely to be threatened there as well. Around 80 in San Francisco, warmer than today. Temperatures should reach out to the mid to upper 80s for Oakland and the East Bay, with temperatures inland of the North Bay between 100 and 105 degrees until you go farther north where temperatures are going to be closer to 110 degrees. So another day with a high to very high heat risk for most inland parts of the Bay area. But watch what happens. Does heat risk for Friday, we see the worst of the colors getting pushed back towards the Central valley. They're still under those heat advisories and exceptional heat warnings through the end of the work week. Temperatures will return to near normal levels by Saturday and Sunday. And believe it or not, we actually have some below average temperatures in store for us by Tuesday and Wednesday of next week, which sounds absolutely fantastic, but we have to get through one more dangerously hot day tomorrow. Again, same advice. It's common sense stuff. Stay hydrated, take breaks. Don't overdo it. Each day that we look at your forecast and there are less three digit numbers, so that's good. Getting closer, less red with the alert days. All right, thanks, Paul. Well, their daughter murdered in the East Bay, a cold case for nearly 30 years. How her parents are now turning their pain into something positive for the community. In Cupertino today, Apple unveiled some longawaited upgrades to some of its most popular products. We'll show you. If you've been injured in an accident, that's not your fault and you don't have an attorney. Listen up. We have legal professionals standing by to answer your questions and tell you what your case is potentially worth. Hi, I'm Gina, along with spokesman Rob So. Rob, tell the folks at home who should call right now. Just like you said, Gina. Anyone who's been injured in an accident, that was not your fault. You don't have an attorney, give us a call right now. We're going to answer all of your questions, and we'll let you know what your case is potentially worth. Thanks, Rob. You heard it, folks at home. Pick up the phone call now. The choice between Prop 26 and 27 let's get real. Prop 26 means no money to fix homelessness, no enforcement oversight, and no support for disadvantaged tribes. Yikes. Prop 27 generates hundreds of millions towards priorities like new housing units. In all 58 counties. 27 supports non gaming tribes and includes strict audits that ensure funds go directly to getting people off the streets and into housing. There's only one choice yes on 27. Create the home of your dreams and enjoy the biggest savings during the Living Spaces labor Day event. The latest styles are waiting and free. Next day shipping brings them to you fast. It's time to refresh your living room, elevate your dining room, makeover your bedroom, and bring personality everywhere. Plus, get special financing for 60 months on any purchase. With your good credit, celebrate the start of.\n"
          ]
        }
      ],
      "source": [
        "import json\n",
        "\n",
        "# Opening JSON file\n",
        "# f = open('/content/drive/MyDrive/topic extraction/data/16859.json')\n",
        "f = open(r'D:/______________projects/topic/data/16859.json')\n",
        "\n",
        "\n",
        "# returns JSON object as\n",
        "# a dictionary\n",
        "data_16859 = json.load(f)\n",
        "\n",
        "print(data_16859['text'])\n",
        "# Closing file\n",
        "f.close()\n"
      ]
    },
    {
      "cell_type": "code",
      "execution_count": 12,
      "metadata": {
        "colab": {
          "base_uri": "https://localhost:8080/",
          "height": 613
        },
        "id": "LLZD4-PzoFZy",
        "outputId": "7cd96b58-0302-484a-b526-72c46efe2ad9"
      },
      "outputs": [
        {
          "data": {
            "text/html": [
              "<div>\n",
              "<style scoped>\n",
              "    .dataframe tbody tr th:only-of-type {\n",
              "        vertical-align: middle;\n",
              "    }\n",
              "\n",
              "    .dataframe tbody tr th {\n",
              "        vertical-align: top;\n",
              "    }\n",
              "\n",
              "    .dataframe thead th {\n",
              "        text-align: right;\n",
              "    }\n",
              "</style>\n",
              "<table border=\"1\" class=\"dataframe\">\n",
              "  <thead>\n",
              "    <tr style=\"text-align: right;\">\n",
              "      <th></th>\n",
              "      <th>first_words</th>\n",
              "      <th>last_words</th>\n",
              "      <th>source_video_id</th>\n",
              "    </tr>\n",
              "  </thead>\n",
              "  <tbody>\n",
              "    <tr>\n",
              "      <th>0</th>\n",
              "      <td>Well knew. This morning police need your help</td>\n",
              "      <td>gunpoint, beating him and stealing his cell ph...</td>\n",
              "      <td>18246</td>\n",
              "    </tr>\n",
              "    <tr>\n",
              "      <th>1</th>\n",
              "      <td>a call. San Francisco firefighters rescued a man</td>\n",
              "      <td>all the way down to the ocean.</td>\n",
              "      <td>12387</td>\n",
              "    </tr>\n",
              "    <tr>\n",
              "      <th>2</th>\n",
              "      <td>Paul. Meanwhile, the state set a record in</td>\n",
              "      <td>night through conservation, some 4000 conserva...</td>\n",
              "      <td>16859</td>\n",
              "    </tr>\n",
              "    <tr>\n",
              "      <th>3</th>\n",
              "      <td>Emergency crews in Florida continue to search for</td>\n",
              "      <td>in Florida to more than 850,000 homes.</td>\n",
              "      <td>18246</td>\n",
              "    </tr>\n",
              "    <tr>\n",
              "      <th>4</th>\n",
              "      <td>But even though the state never ordered rolling</td>\n",
              "      <td>feel since their power got cut out needlessly.</td>\n",
              "      <td>16859</td>\n",
              "    </tr>\n",
              "    <tr>\n",
              "      <th>5</th>\n",
              "      <td>aid. And today, president Joe Biden and first</td>\n",
              "      <td>to view the destruction caused by Hurricane Ian.</td>\n",
              "      <td>18246</td>\n",
              "    </tr>\n",
              "    <tr>\n",
              "      <th>6</th>\n",
              "      <td>In the last month, there have been numerous</td>\n",
              "      <td>are necessary to crack down on those hackers.</td>\n",
              "      <td>18246</td>\n",
              "    </tr>\n",
              "    <tr>\n",
              "      <th>7</th>\n",
              "      <td>and the warriors are playing the Boston Celtics</td>\n",
              "      <td>that. We'll see if they get it tonight.</td>\n",
              "      <td>12387</td>\n",
              "    </tr>\n",
              "    <tr>\n",
              "      <th>8</th>\n",
              "      <td>And San Leandro police searching for the person</td>\n",
              "      <td>footage to try to piece together more informat...</td>\n",
              "      <td>16859</td>\n",
              "    </tr>\n",
              "    <tr>\n",
              "      <th>9</th>\n",
              "      <td>The updated Bivalent Coronavirus booster shot ...</td>\n",
              "      <td>on their vaccinations getting severe illness f...</td>\n",
              "      <td>16859</td>\n",
              "    </tr>\n",
              "    <tr>\n",
              "      <th>10</th>\n",
              "      <td>temperatures tonight, only back down to the un...</td>\n",
              "      <td>stuff. Stay hydrated, take breaks. Don't overd...</td>\n",
              "      <td>16859</td>\n",
              "    </tr>\n",
              "    <tr>\n",
              "      <th>11</th>\n",
              "      <td>And National Guard teams are also on the</td>\n",
              "      <td>north and South Carolina. Fasttracking federal...</td>\n",
              "      <td>18246</td>\n",
              "    </tr>\n",
              "    <tr>\n",
              "      <th>12</th>\n",
              "      <td>A man died after falling from an escalator</td>\n",
              "      <td>name or what led to that fall.</td>\n",
              "      <td>18246</td>\n",
              "    </tr>\n",
              "    <tr>\n",
              "      <th>13</th>\n",
              "      <td>All right. Well happening today. Friends and f...</td>\n",
              "      <td>Meanwhile, the suspected killer remains in the...</td>\n",
              "      <td>18246</td>\n",
              "    </tr>\n",
              "    <tr>\n",
              "      <th>14</th>\n",
              "      <td>detectives are searching for six people they say</td>\n",
              "      <td>with any information is asked to call police.</td>\n",
              "      <td>18246</td>\n",
              "    </tr>\n",
              "    <tr>\n",
              "      <th>15</th>\n",
              "      <td>San Jose police say a security guard trying</td>\n",
              "      <td>not released yet by the Santa Clara County</td>\n",
              "      <td>12387</td>\n",
              "    </tr>\n",
              "    <tr>\n",
              "      <th>16</th>\n",
              "      <td>San Jose police just announcing today an arrest</td>\n",
              "      <td>not reveal a motive for the deadly shooting.</td>\n",
              "      <td>12387</td>\n",
              "    </tr>\n",
              "    <tr>\n",
              "      <th>17</th>\n",
              "      <td>shooting. Surveillance video shows how a car t...</td>\n",
              "      <td>this case, please give them a call.</td>\n",
              "      <td>12387</td>\n",
              "    </tr>\n",
              "  </tbody>\n",
              "</table>\n",
              "</div>"
            ],
            "text/plain": [
              "                                          first_words  \\\n",
              "0       Well knew. This morning police need your help   \n",
              "1    a call. San Francisco firefighters rescued a man   \n",
              "2          Paul. Meanwhile, the state set a record in   \n",
              "3   Emergency crews in Florida continue to search for   \n",
              "4     But even though the state never ordered rolling   \n",
              "5       aid. And today, president Joe Biden and first   \n",
              "6         In the last month, there have been numerous   \n",
              "7     and the warriors are playing the Boston Celtics   \n",
              "8     And San Leandro police searching for the person   \n",
              "9   The updated Bivalent Coronavirus booster shot ...   \n",
              "10  temperatures tonight, only back down to the un...   \n",
              "11           And National Guard teams are also on the   \n",
              "12         A man died after falling from an escalator   \n",
              "13  All right. Well happening today. Friends and f...   \n",
              "14   detectives are searching for six people they say   \n",
              "15        San Jose police say a security guard trying   \n",
              "16    San Jose police just announcing today an arrest   \n",
              "17  shooting. Surveillance video shows how a car t...   \n",
              "\n",
              "                                           last_words  source_video_id  \n",
              "0   gunpoint, beating him and stealing his cell ph...            18246  \n",
              "1                      all the way down to the ocean.            12387  \n",
              "2   night through conservation, some 4000 conserva...            16859  \n",
              "3             in Florida to more than 850,000 homes.             18246  \n",
              "4      feel since their power got cut out needlessly.            16859  \n",
              "5    to view the destruction caused by Hurricane Ian.            18246  \n",
              "6       are necessary to crack down on those hackers.            18246  \n",
              "7             that. We'll see if they get it tonight.            12387  \n",
              "8   footage to try to piece together more informat...            16859  \n",
              "9   on their vaccinations getting severe illness f...            16859  \n",
              "10  stuff. Stay hydrated, take breaks. Don't overd...            16859  \n",
              "11  north and South Carolina. Fasttracking federal...            18246  \n",
              "12                     name or what led to that fall.            18246  \n",
              "13  Meanwhile, the suspected killer remains in the...            18246  \n",
              "14      with any information is asked to call police.            18246  \n",
              "15         not released yet by the Santa Clara County            12387  \n",
              "16       not reveal a motive for the deadly shooting.            12387  \n",
              "17               this case, please give them a call.             12387  "
            ]
          },
          "execution_count": 12,
          "metadata": {},
          "output_type": "execute_result"
        }
      ],
      "source": [
        "df"
      ]
    },
    {
      "attachments": {},
      "cell_type": "markdown",
      "metadata": {
        "id": "ySsLnXgSuYM3"
      },
      "source": [
        "### find posotion of the story in the text"
      ]
    },
    {
      "cell_type": "code",
      "execution_count": 14,
      "metadata": {
        "id": "ZRtP5COvrgr_"
      },
      "outputs": [],
      "source": [
        "def get_index(df, data, df_column, index, first_words, last_words):\n",
        "  \n",
        "      first = data[df_column].index(df[first_words][index])\n",
        "      # find position of the first word of the last 8 words\n",
        "      last = data[df_column].index(df[last_words][index])\n",
        "      # find last potion of the last word of the last 8 words\n",
        "      end = len(df[last_words][index]) + last \n",
        "\n",
        "      return first, last, end"
      ]
    },
    {
      "attachments": {},
      "cell_type": "markdown",
      "metadata": {
        "id": "3BUFe1AIufgQ"
      },
      "source": [
        "### find list of the stories with specefic source_video_id"
      ]
    },
    {
      "cell_type": "code",
      "execution_count": 15,
      "metadata": {
        "id": "6IhMVAjprei_"
      },
      "outputs": [],
      "source": [
        "def get_text(df, data, source_video_id, df_column='text', first_words='first_words', last_words='last_words'):\n",
        "\n",
        "    story = []\n",
        "    for index, id in enumerate (df['source_video_id']):\n",
        "        if id == source_video_id:\n",
        "            # call module to find the first word's first letter position and  \n",
        "            # find the last word's last letter position \n",
        "            first, _ , end = get_index(df, data, df_column, index, first_words, last_words)\n",
        "            # append story from first word to the last word position to a list\n",
        "            story.append(data[df_column][first:end])\n",
        "    return story"
      ]
    },
    {
      "cell_type": "code",
      "execution_count": 16,
      "metadata": {
        "id": "NWzZiEL30jRH"
      },
      "outputs": [],
      "source": [
        "story_18246 = get_text(df, data_18246, 18246)"
      ]
    },
    {
      "cell_type": "code",
      "execution_count": 17,
      "metadata": {
        "id": "hg4pvjGhzA5o"
      },
      "outputs": [],
      "source": [
        "story_12387 = get_text(df, data_12387, 12387)"
      ]
    },
    {
      "cell_type": "code",
      "execution_count": 18,
      "metadata": {
        "id": "pMKbVfnZ3ecg"
      },
      "outputs": [],
      "source": [
        "story_16859 = get_text(df, data_16859, 16859)"
      ]
    },
    {
      "attachments": {},
      "cell_type": "markdown",
      "metadata": {
        "id": "ooUEt-zFs-uG"
      },
      "source": [
        "### add story of each row to the data frame"
      ]
    },
    {
      "cell_type": "code",
      "execution_count": 31,
      "metadata": {
        "id": "Lt2ySxXP3rFw"
      },
      "outputs": [],
      "source": [
        "def add_story(df, story, source_video_id, first_time_intialization):\n",
        "    # use counter for adding stories \n",
        "    counter = 0\n",
        "    df_new = df.copy()\n",
        "    if first_time_intialization == False:\n",
        "        # create new column named \"body\" with NAN values\n",
        "        df_new['body'] = np.nan \n",
        "    for index, id in enumerate (df['source_video_id']):\n",
        "        if id == source_video_id:\n",
        "          df_new.loc[index, 'body'] = story[counter]\n",
        "          counter += 1\n",
        "    return df_new "
      ]
    },
    {
      "cell_type": "code",
      "execution_count": 36,
      "metadata": {
        "id": "6Ikv2Szk6ar9"
      },
      "outputs": [],
      "source": [
        "df_new = add_story(df, story_18246, 18246, False)\n",
        "# df_new"
      ]
    },
    {
      "cell_type": "code",
      "execution_count": 35,
      "metadata": {
        "id": "B2a2dy7o5qEo"
      },
      "outputs": [],
      "source": [
        "df_new2 = add_story(df_new, story_12387, 12387, True)\n",
        "# df_new2"
      ]
    },
    {
      "cell_type": "code",
      "execution_count": 37,
      "metadata": {
        "id": "ll9EOWX95029"
      },
      "outputs": [],
      "source": [
        "df_final = add_story(df_new2, story_16859, 16859, True)"
      ]
    },
    {
      "cell_type": "code",
      "execution_count": 38,
      "metadata": {},
      "outputs": [
        {
          "data": {
            "text/html": [
              "<div>\n",
              "<style scoped>\n",
              "    .dataframe tbody tr th:only-of-type {\n",
              "        vertical-align: middle;\n",
              "    }\n",
              "\n",
              "    .dataframe tbody tr th {\n",
              "        vertical-align: top;\n",
              "    }\n",
              "\n",
              "    .dataframe thead th {\n",
              "        text-align: right;\n",
              "    }\n",
              "</style>\n",
              "<table border=\"1\" class=\"dataframe\">\n",
              "  <thead>\n",
              "    <tr style=\"text-align: right;\">\n",
              "      <th></th>\n",
              "      <th>first_words</th>\n",
              "      <th>last_words</th>\n",
              "      <th>source_video_id</th>\n",
              "      <th>body</th>\n",
              "    </tr>\n",
              "  </thead>\n",
              "  <tbody>\n",
              "    <tr>\n",
              "      <th>0</th>\n",
              "      <td>Well knew. This morning police need your help</td>\n",
              "      <td>gunpoint, beating him and stealing his cell ph...</td>\n",
              "      <td>18246</td>\n",
              "      <td>Well knew. This morning police need your help ...</td>\n",
              "    </tr>\n",
              "    <tr>\n",
              "      <th>1</th>\n",
              "      <td>a call. San Francisco firefighters rescued a man</td>\n",
              "      <td>all the way down to the ocean.</td>\n",
              "      <td>12387</td>\n",
              "      <td>a call. San Francisco firefighters rescued a m...</td>\n",
              "    </tr>\n",
              "    <tr>\n",
              "      <th>2</th>\n",
              "      <td>Paul. Meanwhile, the state set a record in</td>\n",
              "      <td>night through conservation, some 4000 conserva...</td>\n",
              "      <td>16859</td>\n",
              "      <td>Paul. Meanwhile, the state set a record in ene...</td>\n",
              "    </tr>\n",
              "    <tr>\n",
              "      <th>3</th>\n",
              "      <td>Emergency crews in Florida continue to search for</td>\n",
              "      <td>in Florida to more than 850,000 homes.</td>\n",
              "      <td>18246</td>\n",
              "      <td>Emergency crews in Florida continue to search ...</td>\n",
              "    </tr>\n",
              "    <tr>\n",
              "      <th>4</th>\n",
              "      <td>But even though the state never ordered rolling</td>\n",
              "      <td>feel since their power got cut out needlessly.</td>\n",
              "      <td>16859</td>\n",
              "      <td>But even though the state never ordered rollin...</td>\n",
              "    </tr>\n",
              "    <tr>\n",
              "      <th>5</th>\n",
              "      <td>aid. And today, president Joe Biden and first</td>\n",
              "      <td>to view the destruction caused by Hurricane Ian.</td>\n",
              "      <td>18246</td>\n",
              "      <td>aid. And today, president Joe Biden and first ...</td>\n",
              "    </tr>\n",
              "    <tr>\n",
              "      <th>6</th>\n",
              "      <td>In the last month, there have been numerous</td>\n",
              "      <td>are necessary to crack down on those hackers.</td>\n",
              "      <td>18246</td>\n",
              "      <td>In the last month, there have been numerous da...</td>\n",
              "    </tr>\n",
              "    <tr>\n",
              "      <th>7</th>\n",
              "      <td>and the warriors are playing the Boston Celtics</td>\n",
              "      <td>that. We'll see if they get it tonight.</td>\n",
              "      <td>12387</td>\n",
              "      <td>and the warriors are playing the Boston Celtic...</td>\n",
              "    </tr>\n",
              "    <tr>\n",
              "      <th>8</th>\n",
              "      <td>And San Leandro police searching for the person</td>\n",
              "      <td>footage to try to piece together more informat...</td>\n",
              "      <td>16859</td>\n",
              "      <td>And San Leandro police searching for the perso...</td>\n",
              "    </tr>\n",
              "    <tr>\n",
              "      <th>9</th>\n",
              "      <td>The updated Bivalent Coronavirus booster shot ...</td>\n",
              "      <td>on their vaccinations getting severe illness f...</td>\n",
              "      <td>16859</td>\n",
              "      <td>The updated Bivalent Coronavirus booster shot ...</td>\n",
              "    </tr>\n",
              "    <tr>\n",
              "      <th>10</th>\n",
              "      <td>temperatures tonight, only back down to the un...</td>\n",
              "      <td>stuff. Stay hydrated, take breaks. Don't overd...</td>\n",
              "      <td>16859</td>\n",
              "      <td>temperatures tonight, only back down to the un...</td>\n",
              "    </tr>\n",
              "    <tr>\n",
              "      <th>11</th>\n",
              "      <td>And National Guard teams are also on the</td>\n",
              "      <td>north and South Carolina. Fasttracking federal...</td>\n",
              "      <td>18246</td>\n",
              "      <td>And National Guard teams are also on the groun...</td>\n",
              "    </tr>\n",
              "    <tr>\n",
              "      <th>12</th>\n",
              "      <td>A man died after falling from an escalator</td>\n",
              "      <td>name or what led to that fall.</td>\n",
              "      <td>18246</td>\n",
              "      <td>A man died after falling from an escalator aft...</td>\n",
              "    </tr>\n",
              "    <tr>\n",
              "      <th>13</th>\n",
              "      <td>All right. Well happening today. Friends and f...</td>\n",
              "      <td>Meanwhile, the suspected killer remains in the...</td>\n",
              "      <td>18246</td>\n",
              "      <td>All right. Well happening today. Friends and f...</td>\n",
              "    </tr>\n",
              "    <tr>\n",
              "      <th>14</th>\n",
              "      <td>detectives are searching for six people they say</td>\n",
              "      <td>with any information is asked to call police.</td>\n",
              "      <td>18246</td>\n",
              "      <td>detectives are searching for six people they s...</td>\n",
              "    </tr>\n",
              "    <tr>\n",
              "      <th>15</th>\n",
              "      <td>San Jose police say a security guard trying</td>\n",
              "      <td>not released yet by the Santa Clara County</td>\n",
              "      <td>12387</td>\n",
              "      <td>San Jose police say a security guard trying to...</td>\n",
              "    </tr>\n",
              "    <tr>\n",
              "      <th>16</th>\n",
              "      <td>San Jose police just announcing today an arrest</td>\n",
              "      <td>not reveal a motive for the deadly shooting.</td>\n",
              "      <td>12387</td>\n",
              "      <td>San Jose police just announcing today an arres...</td>\n",
              "    </tr>\n",
              "    <tr>\n",
              "      <th>17</th>\n",
              "      <td>shooting. Surveillance video shows how a car t...</td>\n",
              "      <td>this case, please give them a call.</td>\n",
              "      <td>12387</td>\n",
              "      <td>shooting. Surveillance video shows how a car t...</td>\n",
              "    </tr>\n",
              "  </tbody>\n",
              "</table>\n",
              "</div>"
            ],
            "text/plain": [
              "                                          first_words  \\\n",
              "0       Well knew. This morning police need your help   \n",
              "1    a call. San Francisco firefighters rescued a man   \n",
              "2          Paul. Meanwhile, the state set a record in   \n",
              "3   Emergency crews in Florida continue to search for   \n",
              "4     But even though the state never ordered rolling   \n",
              "5       aid. And today, president Joe Biden and first   \n",
              "6         In the last month, there have been numerous   \n",
              "7     and the warriors are playing the Boston Celtics   \n",
              "8     And San Leandro police searching for the person   \n",
              "9   The updated Bivalent Coronavirus booster shot ...   \n",
              "10  temperatures tonight, only back down to the un...   \n",
              "11           And National Guard teams are also on the   \n",
              "12         A man died after falling from an escalator   \n",
              "13  All right. Well happening today. Friends and f...   \n",
              "14   detectives are searching for six people they say   \n",
              "15        San Jose police say a security guard trying   \n",
              "16    San Jose police just announcing today an arrest   \n",
              "17  shooting. Surveillance video shows how a car t...   \n",
              "\n",
              "                                           last_words  source_video_id  \\\n",
              "0   gunpoint, beating him and stealing his cell ph...            18246   \n",
              "1                      all the way down to the ocean.            12387   \n",
              "2   night through conservation, some 4000 conserva...            16859   \n",
              "3             in Florida to more than 850,000 homes.             18246   \n",
              "4      feel since their power got cut out needlessly.            16859   \n",
              "5    to view the destruction caused by Hurricane Ian.            18246   \n",
              "6       are necessary to crack down on those hackers.            18246   \n",
              "7             that. We'll see if they get it tonight.            12387   \n",
              "8   footage to try to piece together more informat...            16859   \n",
              "9   on their vaccinations getting severe illness f...            16859   \n",
              "10  stuff. Stay hydrated, take breaks. Don't overd...            16859   \n",
              "11  north and South Carolina. Fasttracking federal...            18246   \n",
              "12                     name or what led to that fall.            18246   \n",
              "13  Meanwhile, the suspected killer remains in the...            18246   \n",
              "14      with any information is asked to call police.            18246   \n",
              "15         not released yet by the Santa Clara County            12387   \n",
              "16       not reveal a motive for the deadly shooting.            12387   \n",
              "17               this case, please give them a call.             12387   \n",
              "\n",
              "                                                 body  \n",
              "0   Well knew. This morning police need your help ...  \n",
              "1   a call. San Francisco firefighters rescued a m...  \n",
              "2   Paul. Meanwhile, the state set a record in ene...  \n",
              "3   Emergency crews in Florida continue to search ...  \n",
              "4   But even though the state never ordered rollin...  \n",
              "5   aid. And today, president Joe Biden and first ...  \n",
              "6   In the last month, there have been numerous da...  \n",
              "7   and the warriors are playing the Boston Celtic...  \n",
              "8   And San Leandro police searching for the perso...  \n",
              "9   The updated Bivalent Coronavirus booster shot ...  \n",
              "10  temperatures tonight, only back down to the un...  \n",
              "11  And National Guard teams are also on the groun...  \n",
              "12  A man died after falling from an escalator aft...  \n",
              "13  All right. Well happening today. Friends and f...  \n",
              "14  detectives are searching for six people they s...  \n",
              "15  San Jose police say a security guard trying to...  \n",
              "16  San Jose police just announcing today an arres...  \n",
              "17  shooting. Surveillance video shows how a car t...  "
            ]
          },
          "execution_count": 38,
          "metadata": {},
          "output_type": "execute_result"
        }
      ],
      "source": [
        "df_final"
      ]
    },
    {
      "attachments": {},
      "cell_type": "markdown",
      "metadata": {},
      "source": [
        "### find first_word_index and last_word_index in the whole story of a specefic file"
      ]
    },
    {
      "cell_type": "code",
      "execution_count": 229,
      "metadata": {
        "id": "fkAN-RXZ05xy"
      },
      "outputs": [],
      "source": [
        "import re\n",
        "\n",
        "def get_word_index(data, short_story, column = 'text'):\n",
        "    string = data[column]\n",
        "    pattern = short_story\n",
        "    first_word_pos = string.index(pattern)\n",
        "    last_word_pos = first_word_pos +len(pattern)\n",
        "    first_word = short_story.split()[0]\n",
        "    last_word = short_story.split()[-1]\n",
        "    match_lis_first_word = [match.start() for match in re.finditer(first_word, string)]\n",
        "    match_list_last_word = [match.start() for match in re.finditer(last_word, string)]\n",
        "    first_word_index = match_lis_first_word.index(first_word_pos)\n",
        "    if (last_word_pos - len(last_word)) in match_list_last_word:\n",
        "        last_word_index = match_list_last_word.index(last_word_pos - len(last_word))\n",
        "\n",
        "    else:\n",
        "        last_word_index = match_list_last_word.index(last_word_pos - len(last_word) - 1)\n",
        "\n",
        "    return (first_word, first_word_index), (last_word, last_word_index)"
      ]
    },
    {
      "attachments": {},
      "cell_type": "markdown",
      "metadata": {},
      "source": [
        "### find list of the first_word_index and last_word_index in the whole story of a specefic file"
      ]
    },
    {
      "cell_type": "code",
      "execution_count": 230,
      "metadata": {
        "id": "yI3WxOWtFg9J"
      },
      "outputs": [],
      "source": [
        "def first_last_words_index_list(data, story):\n",
        "      first_word_index_list = []\n",
        "      last_word_index_list = []\n",
        "\n",
        "      for index, short_story in enumerate(story):\n",
        "          first_word_index, last_word_index = get_word_index(data, short_story)\n",
        "\n",
        "          first_word_index_list.append(first_word_index)\n",
        "          last_word_index_list.append(last_word_index)\n",
        " \n",
        "\n",
        "      return first_word_index_list, last_word_index_list"
      ]
    },
    {
      "cell_type": "code",
      "execution_count": 231,
      "metadata": {
        "id": "MN5UIy3vGQ6i"
      },
      "outputs": [],
      "source": [
        "first_word_index_list_18246, last_word_index_list_18246 = first_last_words_index_list(data_18246, story_18246)"
      ]
    },
    {
      "cell_type": "code",
      "execution_count": 232,
      "metadata": {
        "id": "KZPjdbWoGjIN"
      },
      "outputs": [],
      "source": [
        "first_word_index_list_12387, last_word_index_list_12387 = first_last_words_index_list(data_12387, story_12387)"
      ]
    },
    {
      "cell_type": "code",
      "execution_count": 233,
      "metadata": {
        "id": "iYFMcozJGisT"
      },
      "outputs": [],
      "source": [
        "first_word_index_list_16859, last_word_index_list_16859 = first_last_words_index_list(data_16859, story_16859)"
      ]
    },
    {
      "cell_type": "code",
      "execution_count": 234,
      "metadata": {
        "colab": {
          "base_uri": "https://localhost:8080/"
        },
        "id": "rhwebomn2L18",
        "outputId": "35606496-8941-4db6-fd49-8c0ad02759bf"
      },
      "outputs": [
        {
          "data": {
            "text/plain": [
              "[('a', 411), ('and', 34), ('San', 0), ('San', 7), ('shooting.', 3)]"
            ]
          },
          "execution_count": 234,
          "metadata": {},
          "output_type": "execute_result"
        }
      ],
      "source": [
        "first_word_index_list_12387"
      ]
    },
    {
      "cell_type": "code",
      "execution_count": 235,
      "metadata": {
        "colab": {
          "base_uri": "https://localhost:8080/"
        },
        "id": "9koPZGna2Lld",
        "outputId": "2562eff1-7e3e-4e05-aaf3-b7366d95f6cb"
      },
      "outputs": [
        {
          "data": {
            "text/plain": [
              "[('ocean.', 0), ('tonight.', 6), ('County', 0), ('shooting.', 3), ('call.', 2)]"
            ]
          },
          "execution_count": 235,
          "metadata": {},
          "output_type": "execute_result"
        }
      ],
      "source": [
        "last_word_index_list_12387"
      ]
    },
    {
      "cell_type": "code",
      "execution_count": 236,
      "metadata": {
        "colab": {
          "base_uri": "https://localhost:8080/"
        },
        "id": "f2pu-aCU2Ear",
        "outputId": "b6f3b208-3cfe-412b-a0ad-bf46e7102a4f"
      },
      "outputs": [
        {
          "data": {
            "text/plain": [
              "[('Well', 1),\n",
              " ('Emergency', 0),\n",
              " ('aid.', 1),\n",
              " ('In', 1),\n",
              " ('And', 9),\n",
              " ('A', 38),\n",
              " ('All', 3),\n",
              " ('detectives', 0)]"
            ]
          },
          "execution_count": 236,
          "metadata": {},
          "output_type": "execute_result"
        }
      ],
      "source": [
        "first_word_index_list_18246"
      ]
    },
    {
      "cell_type": "code",
      "execution_count": 237,
      "metadata": {
        "colab": {
          "base_uri": "https://localhost:8080/"
        },
        "id": "wRyO0hgN2EJ6",
        "outputId": "35568d91-5c8c-4a2b-dd15-0f11548264bf"
      },
      "outputs": [
        {
          "data": {
            "text/plain": [
              "[('phone.', 0),\n",
              " ('homes.', 0),\n",
              " ('Ian.', 2),\n",
              " ('hackers.', 2),\n",
              " ('aid.', 1),\n",
              " ('fall.', 2),\n",
              " ('hospital', 0),\n",
              " ('police.', 5)]"
            ]
          },
          "execution_count": 237,
          "metadata": {},
          "output_type": "execute_result"
        }
      ],
      "source": [
        "last_word_index_list_18246"
      ]
    },
    {
      "cell_type": "code",
      "execution_count": 238,
      "metadata": {
        "colab": {
          "base_uri": "https://localhost:8080/"
        },
        "id": "lM1C32L01tpF",
        "outputId": "70ab161b-0dbe-496a-eb0e-0844439591e7"
      },
      "outputs": [
        {
          "data": {
            "text/plain": [
              "[('Paul.', 0), ('But', 0), ('And', 7), ('The', 14), ('temperatures', 7)]"
            ]
          },
          "execution_count": 238,
          "metadata": {},
          "output_type": "execute_result"
        }
      ],
      "source": [
        "first_word_index_list_16859"
      ]
    },
    {
      "cell_type": "code",
      "execution_count": 239,
      "metadata": {
        "colab": {
          "base_uri": "https://localhost:8080/"
        },
        "id": "yUBUd13x1u7k",
        "outputId": "9216b99f-8c92-44e5-eec5-c6870c1c34e2"
      },
      "outputs": [
        {
          "data": {
            "text/plain": [
              "[('extraordinary.', 0),\n",
              " ('needlessly.', 0),\n",
              " ('information.', 0),\n",
              " ('coping.', 0),\n",
              " ('it.', 127)]"
            ]
          },
          "execution_count": 239,
          "metadata": {},
          "output_type": "execute_result"
        }
      ],
      "source": [
        "last_word_index_list_16859"
      ]
    },
    {
      "attachments": {},
      "cell_type": "markdown",
      "metadata": {},
      "source": [
        "### get story starting time or ending time"
      ]
    },
    {
      "cell_type": "code",
      "execution_count": 240,
      "metadata": {},
      "outputs": [],
      "source": [
        "def get_story_time(data, word_pos, column_time , column_words = 'words', column_text = 'text'): \n",
        "\n",
        "    counter = 0\n",
        "    start_word_time = []\n",
        "\n",
        "    for i in word_pos:\n",
        "        pos = i[1]\n",
        "        for word in data[column_words]:\n",
        "            # check if we find the word\n",
        "            if word[column_text] == i[0]:\n",
        "                # print(word[column_text])\n",
        "                # check if we find the word correct occurence\n",
        "                if pos == counter:\n",
        "                    start_word_time.append(word[column_time])\n",
        "                    # print(start_word_time)\n",
        "                counter += 1\n",
        "    \n",
        "    return start_word_time"
      ]
    },
    {
      "cell_type": "code",
      "execution_count": 255,
      "metadata": {},
      "outputs": [
        {
          "data": {
            "text/plain": [
              "[('a', 411), ('and', 34), ('San', 0), ('San', 7), ('shooting.', 3)]"
            ]
          },
          "execution_count": 255,
          "metadata": {},
          "output_type": "execute_result"
        }
      ],
      "source": [
        "first_word_index_list_12387"
      ]
    },
    {
      "cell_type": "code",
      "execution_count": 256,
      "metadata": {},
      "outputs": [
        {
          "data": {
            "text/plain": [
              "[('ocean.', 0), ('tonight.', 6), ('County', 0), ('shooting.', 3), ('call.', 2)]"
            ]
          },
          "execution_count": 256,
          "metadata": {},
          "output_type": "execute_result"
        }
      ],
      "source": [
        " last_word_index_list_12387"
      ]
    },
    {
      "cell_type": "code",
      "execution_count": 251,
      "metadata": {},
      "outputs": [
        {
          "data": {
            "text/plain": [
              "411"
            ]
          },
          "execution_count": 251,
          "metadata": {},
          "output_type": "execute_result"
        }
      ],
      "source": [
        "first_word_index_list_12387[0][1]"
      ]
    },
    {
      "cell_type": "code",
      "execution_count": 247,
      "metadata": {},
      "outputs": [],
      "source": [
        "start_ = get_story_time(data_12387, first_word_index_list_12387, 'start')"
      ]
    },
    {
      "cell_type": "code",
      "execution_count": null,
      "metadata": {},
      "outputs": [],
      "source": [
        "start_ = get_story_time(data_12387, last_word_index_list_12387, 'end')"
      ]
    },
    {
      "cell_type": "code",
      "execution_count": 248,
      "metadata": {},
      "outputs": [
        {
          "data": {
            "text/plain": [
              "[]"
            ]
          },
          "execution_count": 248,
          "metadata": {},
          "output_type": "execute_result"
        }
      ],
      "source": [
        "start_"
      ]
    }
  ],
  "metadata": {
    "colab": {
      "provenance": []
    },
    "kernelspec": {
      "display_name": "Python 3",
      "name": "python3"
    },
    "language_info": {
      "codemirror_mode": {
        "name": "ipython",
        "version": 3
      },
      "file_extension": ".py",
      "mimetype": "text/x-python",
      "name": "python",
      "nbconvert_exporter": "python",
      "pygments_lexer": "ipython3",
      "version": "3.10.4"
    }
  },
  "nbformat": 4,
  "nbformat_minor": 0
}
