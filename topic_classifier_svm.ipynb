{
  "cells": [
    {
      "attachments": {},
      "cell_type": "markdown",
      "metadata": {
        "id": "Qf_JtA_ZLiwB"
      },
      "source": [
        "# SVM model"
      ]
    },
    {
      "cell_type": "code",
      "execution_count": 2,
      "metadata": {
        "id": "yZ73g3YYHUQI"
      },
      "outputs": [],
      "source": [
        "import numpy as pd\n",
        "import pandas as pd\n",
        "import matplotlib.pyplot as plt\n"
      ]
    },
    {
      "attachments": {},
      "cell_type": "markdown",
      "metadata": {
        "id": "PvpA48EgMkdd"
      },
      "source": [
        "### Mount google drive"
      ]
    },
    {
      "cell_type": "code",
      "execution_count": 3,
      "metadata": {
        "colab": {
          "base_uri": "https://localhost:8080/"
        },
        "id": "y-etaaCEHjjB",
        "outputId": "99ae8fd4-18c5-49e9-97dd-77240f72f4e5"
      },
      "outputs": [
        {
          "name": "stdout",
          "output_type": "stream",
          "text": [
            "Drive already mounted at /content/drive; to attempt to forcibly remount, call drive.mount(\"/content/drive\", force_remount=True).\n"
          ]
        }
      ],
      "source": [
        "from google.colab import drive\n",
        "drive.mount('/content/drive')"
      ]
    },
    {
      "attachments": {},
      "cell_type": "markdown",
      "metadata": {
        "id": "fgw6GxC8Mnze"
      },
      "source": [
        "### import dataset"
      ]
    },
    {
      "cell_type": "code",
      "execution_count": 4,
      "metadata": {
        "id": "ojZGZ7_FH9T_"
      },
      "outputs": [],
      "source": [
        "df =  pd.read_csv('/content/drive/MyDrive/topic extraction/data/stories_cleaned_tokenized.csv')"
      ]
    },
    {
      "attachments": {},
      "cell_type": "markdown",
      "metadata": {
        "id": "_8dWzZ_aMqtB"
      },
      "source": [
        "### check dataset and have idea about it"
      ]
    },
    {
      "cell_type": "code",
      "execution_count": 5,
      "metadata": {
        "colab": {
          "base_uri": "https://localhost:8080/",
          "height": 206
        },
        "id": "FsfTOFM9INGw",
        "outputId": "60fcf1c1-80fd-42b5-8e1c-950db586fb60"
      },
      "outputs": [
        {
          "data": {
            "text/html": [
              "\n",
              "  <div id=\"df-2a805f2f-258a-4ea9-84f3-f5b31934d5e5\">\n",
              "    <div class=\"colab-df-container\">\n",
              "      <div>\n",
              "<style scoped>\n",
              "    .dataframe tbody tr th:only-of-type {\n",
              "        vertical-align: middle;\n",
              "    }\n",
              "\n",
              "    .dataframe tbody tr th {\n",
              "        vertical-align: top;\n",
              "    }\n",
              "\n",
              "    .dataframe thead th {\n",
              "        text-align: right;\n",
              "    }\n",
              "</style>\n",
              "<table border=\"1\" class=\"dataframe\">\n",
              "  <thead>\n",
              "    <tr style=\"text-align: right;\">\n",
              "      <th></th>\n",
              "      <th>body</th>\n",
              "      <th>topic</th>\n",
              "      <th>cleaned</th>\n",
              "    </tr>\n",
              "  </thead>\n",
              "  <tbody>\n",
              "    <tr>\n",
              "      <th>0</th>\n",
              "      <td>hello and welcome to BBC News a woman who gave...</td>\n",
              "      <td>['83a09c6b-5f2f-421f-ae50-b38acca7e008', '9ff5...</td>\n",
              "      <td>hello welcome bbc news woman gave key evidence...</td>\n",
              "    </tr>\n",
              "    <tr>\n",
              "      <th>1</th>\n",
              "      <td>news now out of North Hollywood. A 14 yearold ...</td>\n",
              "      <td>['9ff54ded-904b-4e0c-85ce-a3617f5cb913']</td>\n",
              "      <td>news north hollywood yearold girl found dead i...</td>\n",
              "    </tr>\n",
              "    <tr>\n",
              "      <th>2</th>\n",
              "      <td>homelessness his city's greatest failure. That...</td>\n",
              "      <td>['83a09c6b-5f2f-421f-ae50-b38acca7e008', '74e2...</td>\n",
              "      <td>homelessness city greatest failure message ton...</td>\n",
              "    </tr>\n",
              "    <tr>\n",
              "      <th>3</th>\n",
              "      <td>Minneapolis police officer Kim Potter guilty o...</td>\n",
              "      <td>['83a09c6b-5f2f-421f-ae50-b38acca7e008', '9ff5...</td>\n",
              "      <td>minneapolis police officer kim potter guilty d...</td>\n",
              "    </tr>\n",
              "    <tr>\n",
              "      <th>4</th>\n",
              "      <td>Judy an update now to the wildfires that wiped...</td>\n",
              "      <td>['9ff54ded-904b-4e0c-85ce-a3617f5cb913', '9a06...</td>\n",
              "      <td>judy update wildfire wiped entire neighborhood...</td>\n",
              "    </tr>\n",
              "  </tbody>\n",
              "</table>\n",
              "</div>\n",
              "      <button class=\"colab-df-convert\" onclick=\"convertToInteractive('df-2a805f2f-258a-4ea9-84f3-f5b31934d5e5')\"\n",
              "              title=\"Convert this dataframe to an interactive table.\"\n",
              "              style=\"display:none;\">\n",
              "        \n",
              "  <svg xmlns=\"http://www.w3.org/2000/svg\" height=\"24px\"viewBox=\"0 0 24 24\"\n",
              "       width=\"24px\">\n",
              "    <path d=\"M0 0h24v24H0V0z\" fill=\"none\"/>\n",
              "    <path d=\"M18.56 5.44l.94 2.06.94-2.06 2.06-.94-2.06-.94-.94-2.06-.94 2.06-2.06.94zm-11 1L8.5 8.5l.94-2.06 2.06-.94-2.06-.94L8.5 2.5l-.94 2.06-2.06.94zm10 10l.94 2.06.94-2.06 2.06-.94-2.06-.94-.94-2.06-.94 2.06-2.06.94z\"/><path d=\"M17.41 7.96l-1.37-1.37c-.4-.4-.92-.59-1.43-.59-.52 0-1.04.2-1.43.59L10.3 9.45l-7.72 7.72c-.78.78-.78 2.05 0 2.83L4 21.41c.39.39.9.59 1.41.59.51 0 1.02-.2 1.41-.59l7.78-7.78 2.81-2.81c.8-.78.8-2.07 0-2.86zM5.41 20L4 18.59l7.72-7.72 1.47 1.35L5.41 20z\"/>\n",
              "  </svg>\n",
              "      </button>\n",
              "      \n",
              "  <style>\n",
              "    .colab-df-container {\n",
              "      display:flex;\n",
              "      flex-wrap:wrap;\n",
              "      gap: 12px;\n",
              "    }\n",
              "\n",
              "    .colab-df-convert {\n",
              "      background-color: #E8F0FE;\n",
              "      border: none;\n",
              "      border-radius: 50%;\n",
              "      cursor: pointer;\n",
              "      display: none;\n",
              "      fill: #1967D2;\n",
              "      height: 32px;\n",
              "      padding: 0 0 0 0;\n",
              "      width: 32px;\n",
              "    }\n",
              "\n",
              "    .colab-df-convert:hover {\n",
              "      background-color: #E2EBFA;\n",
              "      box-shadow: 0px 1px 2px rgba(60, 64, 67, 0.3), 0px 1px 3px 1px rgba(60, 64, 67, 0.15);\n",
              "      fill: #174EA6;\n",
              "    }\n",
              "\n",
              "    [theme=dark] .colab-df-convert {\n",
              "      background-color: #3B4455;\n",
              "      fill: #D2E3FC;\n",
              "    }\n",
              "\n",
              "    [theme=dark] .colab-df-convert:hover {\n",
              "      background-color: #434B5C;\n",
              "      box-shadow: 0px 1px 3px 1px rgba(0, 0, 0, 0.15);\n",
              "      filter: drop-shadow(0px 1px 2px rgba(0, 0, 0, 0.3));\n",
              "      fill: #FFFFFF;\n",
              "    }\n",
              "  </style>\n",
              "\n",
              "      <script>\n",
              "        const buttonEl =\n",
              "          document.querySelector('#df-2a805f2f-258a-4ea9-84f3-f5b31934d5e5 button.colab-df-convert');\n",
              "        buttonEl.style.display =\n",
              "          google.colab.kernel.accessAllowed ? 'block' : 'none';\n",
              "\n",
              "        async function convertToInteractive(key) {\n",
              "          const element = document.querySelector('#df-2a805f2f-258a-4ea9-84f3-f5b31934d5e5');\n",
              "          const dataTable =\n",
              "            await google.colab.kernel.invokeFunction('convertToInteractive',\n",
              "                                                     [key], {});\n",
              "          if (!dataTable) return;\n",
              "\n",
              "          const docLinkHtml = 'Like what you see? Visit the ' +\n",
              "            '<a target=\"_blank\" href=https://colab.research.google.com/notebooks/data_table.ipynb>data table notebook</a>'\n",
              "            + ' to learn more about interactive tables.';\n",
              "          element.innerHTML = '';\n",
              "          dataTable['output_type'] = 'display_data';\n",
              "          await google.colab.output.renderOutput(dataTable, element);\n",
              "          const docLink = document.createElement('div');\n",
              "          docLink.innerHTML = docLinkHtml;\n",
              "          element.appendChild(docLink);\n",
              "        }\n",
              "      </script>\n",
              "    </div>\n",
              "  </div>\n",
              "  "
            ],
            "text/plain": [
              "                                                body  \\\n",
              "0  hello and welcome to BBC News a woman who gave...   \n",
              "1  news now out of North Hollywood. A 14 yearold ...   \n",
              "2  homelessness his city's greatest failure. That...   \n",
              "3  Minneapolis police officer Kim Potter guilty o...   \n",
              "4  Judy an update now to the wildfires that wiped...   \n",
              "\n",
              "                                               topic  \\\n",
              "0  ['83a09c6b-5f2f-421f-ae50-b38acca7e008', '9ff5...   \n",
              "1           ['9ff54ded-904b-4e0c-85ce-a3617f5cb913']   \n",
              "2  ['83a09c6b-5f2f-421f-ae50-b38acca7e008', '74e2...   \n",
              "3  ['83a09c6b-5f2f-421f-ae50-b38acca7e008', '9ff5...   \n",
              "4  ['9ff54ded-904b-4e0c-85ce-a3617f5cb913', '9a06...   \n",
              "\n",
              "                                             cleaned  \n",
              "0  hello welcome bbc news woman gave key evidence...  \n",
              "1  news north hollywood yearold girl found dead i...  \n",
              "2  homelessness city greatest failure message ton...  \n",
              "3  minneapolis police officer kim potter guilty d...  \n",
              "4  judy update wildfire wiped entire neighborhood...  "
            ]
          },
          "execution_count": 5,
          "metadata": {},
          "output_type": "execute_result"
        }
      ],
      "source": [
        "df.head()"
      ]
    },
    {
      "cell_type": "code",
      "execution_count": 6,
      "metadata": {
        "colab": {
          "base_uri": "https://localhost:8080/",
          "height": 206
        },
        "id": "_rrscACvIPHT",
        "outputId": "484db9ea-59a8-46e4-9f76-50b4def143ad"
      },
      "outputs": [
        {
          "data": {
            "text/html": [
              "\n",
              "  <div id=\"df-dacc9418-e269-466d-8923-b251541682a4\">\n",
              "    <div class=\"colab-df-container\">\n",
              "      <div>\n",
              "<style scoped>\n",
              "    .dataframe tbody tr th:only-of-type {\n",
              "        vertical-align: middle;\n",
              "    }\n",
              "\n",
              "    .dataframe tbody tr th {\n",
              "        vertical-align: top;\n",
              "    }\n",
              "\n",
              "    .dataframe thead th {\n",
              "        text-align: right;\n",
              "    }\n",
              "</style>\n",
              "<table border=\"1\" class=\"dataframe\">\n",
              "  <thead>\n",
              "    <tr style=\"text-align: right;\">\n",
              "      <th></th>\n",
              "      <th>body</th>\n",
              "      <th>topic</th>\n",
              "      <th>cleaned</th>\n",
              "    </tr>\n",
              "  </thead>\n",
              "  <tbody>\n",
              "    <tr>\n",
              "      <th>5136</th>\n",
              "      <td>News. More local help will soon be on the way....</td>\n",
              "      <td>['9ff54ded-904b-4e0c-85ce-a3617f5cb913', '9632...</td>\n",
              "      <td>news local help soon way group volunteer yonke...</td>\n",
              "    </tr>\n",
              "    <tr>\n",
              "      <th>5137</th>\n",
              "      <td>with March 1, we start what is called Meteorol...</td>\n",
              "      <td>['9a06646a-e1df-4fca-888e-69658420556b']</td>\n",
              "      <td>march start called meteorological spring keep ...</td>\n",
              "    </tr>\n",
              "    <tr>\n",
              "      <th>5138</th>\n",
              "      <td>overseas. A massive Russian convoy is headed t...</td>\n",
              "      <td>['9ff54ded-904b-4e0c-85ce-a3617f5cb913']</td>\n",
              "      <td>overseas massive russian convoy headed toward ...</td>\n",
              "    </tr>\n",
              "    <tr>\n",
              "      <th>5139</th>\n",
              "      <td>And this morning, the National Hockey League s...</td>\n",
              "      <td>['9ff54ded-904b-4e0c-85ce-a3617f5cb913', 'b492...</td>\n",
              "      <td>morning national hockey league say suspending ...</td>\n",
              "    </tr>\n",
              "    <tr>\n",
              "      <th>5140</th>\n",
              "      <td>thank you very much. Also this morning, the Un...</td>\n",
              "      <td>['83a09c6b-5f2f-421f-ae50-b38acca7e008', '9ff5...</td>\n",
              "      <td>thank much also morning united state asking tw...</td>\n",
              "    </tr>\n",
              "  </tbody>\n",
              "</table>\n",
              "</div>\n",
              "      <button class=\"colab-df-convert\" onclick=\"convertToInteractive('df-dacc9418-e269-466d-8923-b251541682a4')\"\n",
              "              title=\"Convert this dataframe to an interactive table.\"\n",
              "              style=\"display:none;\">\n",
              "        \n",
              "  <svg xmlns=\"http://www.w3.org/2000/svg\" height=\"24px\"viewBox=\"0 0 24 24\"\n",
              "       width=\"24px\">\n",
              "    <path d=\"M0 0h24v24H0V0z\" fill=\"none\"/>\n",
              "    <path d=\"M18.56 5.44l.94 2.06.94-2.06 2.06-.94-2.06-.94-.94-2.06-.94 2.06-2.06.94zm-11 1L8.5 8.5l.94-2.06 2.06-.94-2.06-.94L8.5 2.5l-.94 2.06-2.06.94zm10 10l.94 2.06.94-2.06 2.06-.94-2.06-.94-.94-2.06-.94 2.06-2.06.94z\"/><path d=\"M17.41 7.96l-1.37-1.37c-.4-.4-.92-.59-1.43-.59-.52 0-1.04.2-1.43.59L10.3 9.45l-7.72 7.72c-.78.78-.78 2.05 0 2.83L4 21.41c.39.39.9.59 1.41.59.51 0 1.02-.2 1.41-.59l7.78-7.78 2.81-2.81c.8-.78.8-2.07 0-2.86zM5.41 20L4 18.59l7.72-7.72 1.47 1.35L5.41 20z\"/>\n",
              "  </svg>\n",
              "      </button>\n",
              "      \n",
              "  <style>\n",
              "    .colab-df-container {\n",
              "      display:flex;\n",
              "      flex-wrap:wrap;\n",
              "      gap: 12px;\n",
              "    }\n",
              "\n",
              "    .colab-df-convert {\n",
              "      background-color: #E8F0FE;\n",
              "      border: none;\n",
              "      border-radius: 50%;\n",
              "      cursor: pointer;\n",
              "      display: none;\n",
              "      fill: #1967D2;\n",
              "      height: 32px;\n",
              "      padding: 0 0 0 0;\n",
              "      width: 32px;\n",
              "    }\n",
              "\n",
              "    .colab-df-convert:hover {\n",
              "      background-color: #E2EBFA;\n",
              "      box-shadow: 0px 1px 2px rgba(60, 64, 67, 0.3), 0px 1px 3px 1px rgba(60, 64, 67, 0.15);\n",
              "      fill: #174EA6;\n",
              "    }\n",
              "\n",
              "    [theme=dark] .colab-df-convert {\n",
              "      background-color: #3B4455;\n",
              "      fill: #D2E3FC;\n",
              "    }\n",
              "\n",
              "    [theme=dark] .colab-df-convert:hover {\n",
              "      background-color: #434B5C;\n",
              "      box-shadow: 0px 1px 3px 1px rgba(0, 0, 0, 0.15);\n",
              "      filter: drop-shadow(0px 1px 2px rgba(0, 0, 0, 0.3));\n",
              "      fill: #FFFFFF;\n",
              "    }\n",
              "  </style>\n",
              "\n",
              "      <script>\n",
              "        const buttonEl =\n",
              "          document.querySelector('#df-dacc9418-e269-466d-8923-b251541682a4 button.colab-df-convert');\n",
              "        buttonEl.style.display =\n",
              "          google.colab.kernel.accessAllowed ? 'block' : 'none';\n",
              "\n",
              "        async function convertToInteractive(key) {\n",
              "          const element = document.querySelector('#df-dacc9418-e269-466d-8923-b251541682a4');\n",
              "          const dataTable =\n",
              "            await google.colab.kernel.invokeFunction('convertToInteractive',\n",
              "                                                     [key], {});\n",
              "          if (!dataTable) return;\n",
              "\n",
              "          const docLinkHtml = 'Like what you see? Visit the ' +\n",
              "            '<a target=\"_blank\" href=https://colab.research.google.com/notebooks/data_table.ipynb>data table notebook</a>'\n",
              "            + ' to learn more about interactive tables.';\n",
              "          element.innerHTML = '';\n",
              "          dataTable['output_type'] = 'display_data';\n",
              "          await google.colab.output.renderOutput(dataTable, element);\n",
              "          const docLink = document.createElement('div');\n",
              "          docLink.innerHTML = docLinkHtml;\n",
              "          element.appendChild(docLink);\n",
              "        }\n",
              "      </script>\n",
              "    </div>\n",
              "  </div>\n",
              "  "
            ],
            "text/plain": [
              "                                                   body  \\\n",
              "5136  News. More local help will soon be on the way....   \n",
              "5137  with March 1, we start what is called Meteorol...   \n",
              "5138  overseas. A massive Russian convoy is headed t...   \n",
              "5139  And this morning, the National Hockey League s...   \n",
              "5140  thank you very much. Also this morning, the Un...   \n",
              "\n",
              "                                                  topic  \\\n",
              "5136  ['9ff54ded-904b-4e0c-85ce-a3617f5cb913', '9632...   \n",
              "5137           ['9a06646a-e1df-4fca-888e-69658420556b']   \n",
              "5138           ['9ff54ded-904b-4e0c-85ce-a3617f5cb913']   \n",
              "5139  ['9ff54ded-904b-4e0c-85ce-a3617f5cb913', 'b492...   \n",
              "5140  ['83a09c6b-5f2f-421f-ae50-b38acca7e008', '9ff5...   \n",
              "\n",
              "                                                cleaned  \n",
              "5136  news local help soon way group volunteer yonke...  \n",
              "5137  march start called meteorological spring keep ...  \n",
              "5138  overseas massive russian convoy headed toward ...  \n",
              "5139  morning national hockey league say suspending ...  \n",
              "5140  thank much also morning united state asking tw...  "
            ]
          },
          "execution_count": 6,
          "metadata": {},
          "output_type": "execute_result"
        }
      ],
      "source": [
        "df.tail()"
      ]
    },
    {
      "cell_type": "code",
      "execution_count": 7,
      "metadata": {
        "colab": {
          "base_uri": "https://localhost:8080/"
        },
        "id": "ahL6qx7YQkrx",
        "outputId": "d72f86c9-6068-48a9-b355-83843f2d5689"
      },
      "outputs": [
        {
          "name": "stdout",
          "output_type": "stream",
          "text": [
            "<class 'pandas.core.frame.DataFrame'>\n",
            "RangeIndex: 5141 entries, 0 to 5140\n",
            "Data columns (total 3 columns):\n",
            " #   Column   Non-Null Count  Dtype \n",
            "---  ------   --------------  ----- \n",
            " 0   body     5141 non-null   object\n",
            " 1   topic    5141 non-null   object\n",
            " 2   cleaned  5138 non-null   object\n",
            "dtypes: object(3)\n",
            "memory usage: 120.6+ KB\n"
          ]
        }
      ],
      "source": [
        "df.info()"
      ]
    },
    {
      "cell_type": "code",
      "execution_count": 8,
      "metadata": {
        "colab": {
          "base_uri": "https://localhost:8080/",
          "height": 175
        },
        "id": "qAuOw3wuQnJV",
        "outputId": "d64e887e-ac29-477b-fc7a-5e193f6df858"
      },
      "outputs": [
        {
          "data": {
            "text/html": [
              "\n",
              "  <div id=\"df-3de7b1e3-a2da-44a9-944e-71f9452fe291\">\n",
              "    <div class=\"colab-df-container\">\n",
              "      <div>\n",
              "<style scoped>\n",
              "    .dataframe tbody tr th:only-of-type {\n",
              "        vertical-align: middle;\n",
              "    }\n",
              "\n",
              "    .dataframe tbody tr th {\n",
              "        vertical-align: top;\n",
              "    }\n",
              "\n",
              "    .dataframe thead th {\n",
              "        text-align: right;\n",
              "    }\n",
              "</style>\n",
              "<table border=\"1\" class=\"dataframe\">\n",
              "  <thead>\n",
              "    <tr style=\"text-align: right;\">\n",
              "      <th></th>\n",
              "      <th>body</th>\n",
              "      <th>topic</th>\n",
              "      <th>cleaned</th>\n",
              "    </tr>\n",
              "  </thead>\n",
              "  <tbody>\n",
              "    <tr>\n",
              "      <th>count</th>\n",
              "      <td>5141</td>\n",
              "      <td>5141</td>\n",
              "      <td>5138</td>\n",
              "    </tr>\n",
              "    <tr>\n",
              "      <th>unique</th>\n",
              "      <td>5141</td>\n",
              "      <td>178</td>\n",
              "      <td>5137</td>\n",
              "    </tr>\n",
              "    <tr>\n",
              "      <th>top</th>\n",
              "      <td>hello and welcome to BBC News a woman who gave...</td>\n",
              "      <td>['9ff54ded-904b-4e0c-85ce-a3617f5cb913']</td>\n",
              "      <td>vigil today yearold alexis gabe oakley last se...</td>\n",
              "    </tr>\n",
              "    <tr>\n",
              "      <th>freq</th>\n",
              "      <td>1</td>\n",
              "      <td>882</td>\n",
              "      <td>2</td>\n",
              "    </tr>\n",
              "  </tbody>\n",
              "</table>\n",
              "</div>\n",
              "      <button class=\"colab-df-convert\" onclick=\"convertToInteractive('df-3de7b1e3-a2da-44a9-944e-71f9452fe291')\"\n",
              "              title=\"Convert this dataframe to an interactive table.\"\n",
              "              style=\"display:none;\">\n",
              "        \n",
              "  <svg xmlns=\"http://www.w3.org/2000/svg\" height=\"24px\"viewBox=\"0 0 24 24\"\n",
              "       width=\"24px\">\n",
              "    <path d=\"M0 0h24v24H0V0z\" fill=\"none\"/>\n",
              "    <path d=\"M18.56 5.44l.94 2.06.94-2.06 2.06-.94-2.06-.94-.94-2.06-.94 2.06-2.06.94zm-11 1L8.5 8.5l.94-2.06 2.06-.94-2.06-.94L8.5 2.5l-.94 2.06-2.06.94zm10 10l.94 2.06.94-2.06 2.06-.94-2.06-.94-.94-2.06-.94 2.06-2.06.94z\"/><path d=\"M17.41 7.96l-1.37-1.37c-.4-.4-.92-.59-1.43-.59-.52 0-1.04.2-1.43.59L10.3 9.45l-7.72 7.72c-.78.78-.78 2.05 0 2.83L4 21.41c.39.39.9.59 1.41.59.51 0 1.02-.2 1.41-.59l7.78-7.78 2.81-2.81c.8-.78.8-2.07 0-2.86zM5.41 20L4 18.59l7.72-7.72 1.47 1.35L5.41 20z\"/>\n",
              "  </svg>\n",
              "      </button>\n",
              "      \n",
              "  <style>\n",
              "    .colab-df-container {\n",
              "      display:flex;\n",
              "      flex-wrap:wrap;\n",
              "      gap: 12px;\n",
              "    }\n",
              "\n",
              "    .colab-df-convert {\n",
              "      background-color: #E8F0FE;\n",
              "      border: none;\n",
              "      border-radius: 50%;\n",
              "      cursor: pointer;\n",
              "      display: none;\n",
              "      fill: #1967D2;\n",
              "      height: 32px;\n",
              "      padding: 0 0 0 0;\n",
              "      width: 32px;\n",
              "    }\n",
              "\n",
              "    .colab-df-convert:hover {\n",
              "      background-color: #E2EBFA;\n",
              "      box-shadow: 0px 1px 2px rgba(60, 64, 67, 0.3), 0px 1px 3px 1px rgba(60, 64, 67, 0.15);\n",
              "      fill: #174EA6;\n",
              "    }\n",
              "\n",
              "    [theme=dark] .colab-df-convert {\n",
              "      background-color: #3B4455;\n",
              "      fill: #D2E3FC;\n",
              "    }\n",
              "\n",
              "    [theme=dark] .colab-df-convert:hover {\n",
              "      background-color: #434B5C;\n",
              "      box-shadow: 0px 1px 3px 1px rgba(0, 0, 0, 0.15);\n",
              "      filter: drop-shadow(0px 1px 2px rgba(0, 0, 0, 0.3));\n",
              "      fill: #FFFFFF;\n",
              "    }\n",
              "  </style>\n",
              "\n",
              "      <script>\n",
              "        const buttonEl =\n",
              "          document.querySelector('#df-3de7b1e3-a2da-44a9-944e-71f9452fe291 button.colab-df-convert');\n",
              "        buttonEl.style.display =\n",
              "          google.colab.kernel.accessAllowed ? 'block' : 'none';\n",
              "\n",
              "        async function convertToInteractive(key) {\n",
              "          const element = document.querySelector('#df-3de7b1e3-a2da-44a9-944e-71f9452fe291');\n",
              "          const dataTable =\n",
              "            await google.colab.kernel.invokeFunction('convertToInteractive',\n",
              "                                                     [key], {});\n",
              "          if (!dataTable) return;\n",
              "\n",
              "          const docLinkHtml = 'Like what you see? Visit the ' +\n",
              "            '<a target=\"_blank\" href=https://colab.research.google.com/notebooks/data_table.ipynb>data table notebook</a>'\n",
              "            + ' to learn more about interactive tables.';\n",
              "          element.innerHTML = '';\n",
              "          dataTable['output_type'] = 'display_data';\n",
              "          await google.colab.output.renderOutput(dataTable, element);\n",
              "          const docLink = document.createElement('div');\n",
              "          docLink.innerHTML = docLinkHtml;\n",
              "          element.appendChild(docLink);\n",
              "        }\n",
              "      </script>\n",
              "    </div>\n",
              "  </div>\n",
              "  "
            ],
            "text/plain": [
              "                                                     body  \\\n",
              "count                                                5141   \n",
              "unique                                               5141   \n",
              "top     hello and welcome to BBC News a woman who gave...   \n",
              "freq                                                    1   \n",
              "\n",
              "                                           topic  \\\n",
              "count                                       5141   \n",
              "unique                                       178   \n",
              "top     ['9ff54ded-904b-4e0c-85ce-a3617f5cb913']   \n",
              "freq                                         882   \n",
              "\n",
              "                                                  cleaned  \n",
              "count                                                5138  \n",
              "unique                                               5137  \n",
              "top     vigil today yearold alexis gabe oakley last se...  \n",
              "freq                                                    2  "
            ]
          },
          "execution_count": 8,
          "metadata": {},
          "output_type": "execute_result"
        }
      ],
      "source": [
        "df.describe()"
      ]
    },
    {
      "attachments": {},
      "cell_type": "markdown",
      "metadata": {
        "id": "p5RhxWfHOq3o"
      },
      "source": [
        "### module to tokenize text"
      ]
    },
    {
      "cell_type": "code",
      "execution_count": 9,
      "metadata": {
        "id": "neYUFpOgSAzN"
      },
      "outputs": [],
      "source": [
        "import nltk\n",
        "\n"
      ]
    },
    {
      "cell_type": "code",
      "execution_count": 10,
      "metadata": {
        "colab": {
          "base_uri": "https://localhost:8080/"
        },
        "id": "2xwsy799Rv_c",
        "outputId": "51e4b23d-b7c8-419e-83c0-85adbc15639c"
      },
      "outputs": [
        {
          "data": {
            "text/plain": [
              "str"
            ]
          },
          "execution_count": 10,
          "metadata": {},
          "output_type": "execute_result"
        }
      ],
      "source": [
        "type(df['cleaned'][0])"
      ]
    },
    {
      "cell_type": "code",
      "execution_count": 11,
      "metadata": {
        "colab": {
          "base_uri": "https://localhost:8080/"
        },
        "id": "4wCk1RSrYnFA",
        "outputId": "11d0649c-3526-46bb-eb62-8ae3ef5bd42d"
      },
      "outputs": [
        {
          "name": "stderr",
          "output_type": "stream",
          "text": [
            "[nltk_data] Downloading package punkt to /root/nltk_data...\n",
            "[nltk_data]   Package punkt is already up-to-date!\n"
          ]
        },
        {
          "data": {
            "text/plain": [
              "True"
            ]
          },
          "execution_count": 11,
          "metadata": {},
          "output_type": "execute_result"
        }
      ],
      "source": [
        "import nltk\n",
        "nltk.download('punkt')"
      ]
    },
    {
      "cell_type": "code",
      "execution_count": 12,
      "metadata": {
        "id": "7ATLuTB0RdBp"
      },
      "outputs": [],
      "source": [
        "from nltk.tokenize import word_tokenize \n",
        "\n",
        "def text_tokenizer(df):\n",
        "    corpus=[]\n",
        "    \n",
        "    for text in df:\n",
        "        words = word_tokenize(str(text))\n",
        "       \n",
        "        corpus.append(words)\n",
        "    return corpus\n",
        "df['tokenized'] = text_tokenizer(df['cleaned'])"
      ]
    },
    {
      "cell_type": "code",
      "execution_count": 13,
      "metadata": {
        "colab": {
          "base_uri": "https://localhost:8080/",
          "height": 467
        },
        "id": "uUWS1jVLSbXR",
        "outputId": "f9890bd0-27e8-461c-f513-7c090828038f"
      },
      "outputs": [
        {
          "data": {
            "text/html": [
              "\n",
              "  <div id=\"df-a475ebb1-e28a-40c6-a19c-52258b8a3e65\">\n",
              "    <div class=\"colab-df-container\">\n",
              "      <div>\n",
              "<style scoped>\n",
              "    .dataframe tbody tr th:only-of-type {\n",
              "        vertical-align: middle;\n",
              "    }\n",
              "\n",
              "    .dataframe tbody tr th {\n",
              "        vertical-align: top;\n",
              "    }\n",
              "\n",
              "    .dataframe thead th {\n",
              "        text-align: right;\n",
              "    }\n",
              "</style>\n",
              "<table border=\"1\" class=\"dataframe\">\n",
              "  <thead>\n",
              "    <tr style=\"text-align: right;\">\n",
              "      <th></th>\n",
              "      <th>body</th>\n",
              "      <th>topic</th>\n",
              "      <th>cleaned</th>\n",
              "      <th>tokenized</th>\n",
              "    </tr>\n",
              "  </thead>\n",
              "  <tbody>\n",
              "    <tr>\n",
              "      <th>0</th>\n",
              "      <td>hello and welcome to BBC News a woman who gave...</td>\n",
              "      <td>['83a09c6b-5f2f-421f-ae50-b38acca7e008', '9ff5...</td>\n",
              "      <td>hello welcome bbc news woman gave key evidence...</td>\n",
              "      <td>[hello, welcome, bbc, news, woman, gave, key, ...</td>\n",
              "    </tr>\n",
              "    <tr>\n",
              "      <th>1</th>\n",
              "      <td>news now out of North Hollywood. A 14 yearold ...</td>\n",
              "      <td>['9ff54ded-904b-4e0c-85ce-a3617f5cb913']</td>\n",
              "      <td>news north hollywood yearold girl found dead i...</td>\n",
              "      <td>[news, north, hollywood, yearold, girl, found,...</td>\n",
              "    </tr>\n",
              "    <tr>\n",
              "      <th>2</th>\n",
              "      <td>homelessness his city's greatest failure. That...</td>\n",
              "      <td>['83a09c6b-5f2f-421f-ae50-b38acca7e008', '74e2...</td>\n",
              "      <td>homelessness city greatest failure message ton...</td>\n",
              "      <td>[homelessness, city, greatest, failure, messag...</td>\n",
              "    </tr>\n",
              "    <tr>\n",
              "      <th>3</th>\n",
              "      <td>Minneapolis police officer Kim Potter guilty o...</td>\n",
              "      <td>['83a09c6b-5f2f-421f-ae50-b38acca7e008', '9ff5...</td>\n",
              "      <td>minneapolis police officer kim potter guilty d...</td>\n",
              "      <td>[minneapolis, police, officer, kim, potter, gu...</td>\n",
              "    </tr>\n",
              "    <tr>\n",
              "      <th>4</th>\n",
              "      <td>Judy an update now to the wildfires that wiped...</td>\n",
              "      <td>['9ff54ded-904b-4e0c-85ce-a3617f5cb913', '9a06...</td>\n",
              "      <td>judy update wildfire wiped entire neighborhood...</td>\n",
              "      <td>[judy, update, wildfire, wiped, entire, neighb...</td>\n",
              "    </tr>\n",
              "    <tr>\n",
              "      <th>...</th>\n",
              "      <td>...</td>\n",
              "      <td>...</td>\n",
              "      <td>...</td>\n",
              "      <td>...</td>\n",
              "    </tr>\n",
              "    <tr>\n",
              "      <th>5136</th>\n",
              "      <td>News. More local help will soon be on the way....</td>\n",
              "      <td>['9ff54ded-904b-4e0c-85ce-a3617f5cb913', '9632...</td>\n",
              "      <td>news local help soon way group volunteer yonke...</td>\n",
              "      <td>[news, local, help, soon, way, group, voluntee...</td>\n",
              "    </tr>\n",
              "    <tr>\n",
              "      <th>5137</th>\n",
              "      <td>with March 1, we start what is called Meteorol...</td>\n",
              "      <td>['9a06646a-e1df-4fca-888e-69658420556b']</td>\n",
              "      <td>march start called meteorological spring keep ...</td>\n",
              "      <td>[march, start, called, meteorological, spring,...</td>\n",
              "    </tr>\n",
              "    <tr>\n",
              "      <th>5138</th>\n",
              "      <td>overseas. A massive Russian convoy is headed t...</td>\n",
              "      <td>['9ff54ded-904b-4e0c-85ce-a3617f5cb913']</td>\n",
              "      <td>overseas massive russian convoy headed toward ...</td>\n",
              "      <td>[overseas, massive, russian, convoy, headed, t...</td>\n",
              "    </tr>\n",
              "    <tr>\n",
              "      <th>5139</th>\n",
              "      <td>And this morning, the National Hockey League s...</td>\n",
              "      <td>['9ff54ded-904b-4e0c-85ce-a3617f5cb913', 'b492...</td>\n",
              "      <td>morning national hockey league say suspending ...</td>\n",
              "      <td>[morning, national, hockey, league, say, suspe...</td>\n",
              "    </tr>\n",
              "    <tr>\n",
              "      <th>5140</th>\n",
              "      <td>thank you very much. Also this morning, the Un...</td>\n",
              "      <td>['83a09c6b-5f2f-421f-ae50-b38acca7e008', '9ff5...</td>\n",
              "      <td>thank much also morning united state asking tw...</td>\n",
              "      <td>[thank, much, also, morning, united, state, as...</td>\n",
              "    </tr>\n",
              "  </tbody>\n",
              "</table>\n",
              "<p>5141 rows × 4 columns</p>\n",
              "</div>\n",
              "      <button class=\"colab-df-convert\" onclick=\"convertToInteractive('df-a475ebb1-e28a-40c6-a19c-52258b8a3e65')\"\n",
              "              title=\"Convert this dataframe to an interactive table.\"\n",
              "              style=\"display:none;\">\n",
              "        \n",
              "  <svg xmlns=\"http://www.w3.org/2000/svg\" height=\"24px\"viewBox=\"0 0 24 24\"\n",
              "       width=\"24px\">\n",
              "    <path d=\"M0 0h24v24H0V0z\" fill=\"none\"/>\n",
              "    <path d=\"M18.56 5.44l.94 2.06.94-2.06 2.06-.94-2.06-.94-.94-2.06-.94 2.06-2.06.94zm-11 1L8.5 8.5l.94-2.06 2.06-.94-2.06-.94L8.5 2.5l-.94 2.06-2.06.94zm10 10l.94 2.06.94-2.06 2.06-.94-2.06-.94-.94-2.06-.94 2.06-2.06.94z\"/><path d=\"M17.41 7.96l-1.37-1.37c-.4-.4-.92-.59-1.43-.59-.52 0-1.04.2-1.43.59L10.3 9.45l-7.72 7.72c-.78.78-.78 2.05 0 2.83L4 21.41c.39.39.9.59 1.41.59.51 0 1.02-.2 1.41-.59l7.78-7.78 2.81-2.81c.8-.78.8-2.07 0-2.86zM5.41 20L4 18.59l7.72-7.72 1.47 1.35L5.41 20z\"/>\n",
              "  </svg>\n",
              "      </button>\n",
              "      \n",
              "  <style>\n",
              "    .colab-df-container {\n",
              "      display:flex;\n",
              "      flex-wrap:wrap;\n",
              "      gap: 12px;\n",
              "    }\n",
              "\n",
              "    .colab-df-convert {\n",
              "      background-color: #E8F0FE;\n",
              "      border: none;\n",
              "      border-radius: 50%;\n",
              "      cursor: pointer;\n",
              "      display: none;\n",
              "      fill: #1967D2;\n",
              "      height: 32px;\n",
              "      padding: 0 0 0 0;\n",
              "      width: 32px;\n",
              "    }\n",
              "\n",
              "    .colab-df-convert:hover {\n",
              "      background-color: #E2EBFA;\n",
              "      box-shadow: 0px 1px 2px rgba(60, 64, 67, 0.3), 0px 1px 3px 1px rgba(60, 64, 67, 0.15);\n",
              "      fill: #174EA6;\n",
              "    }\n",
              "\n",
              "    [theme=dark] .colab-df-convert {\n",
              "      background-color: #3B4455;\n",
              "      fill: #D2E3FC;\n",
              "    }\n",
              "\n",
              "    [theme=dark] .colab-df-convert:hover {\n",
              "      background-color: #434B5C;\n",
              "      box-shadow: 0px 1px 3px 1px rgba(0, 0, 0, 0.15);\n",
              "      filter: drop-shadow(0px 1px 2px rgba(0, 0, 0, 0.3));\n",
              "      fill: #FFFFFF;\n",
              "    }\n",
              "  </style>\n",
              "\n",
              "      <script>\n",
              "        const buttonEl =\n",
              "          document.querySelector('#df-a475ebb1-e28a-40c6-a19c-52258b8a3e65 button.colab-df-convert');\n",
              "        buttonEl.style.display =\n",
              "          google.colab.kernel.accessAllowed ? 'block' : 'none';\n",
              "\n",
              "        async function convertToInteractive(key) {\n",
              "          const element = document.querySelector('#df-a475ebb1-e28a-40c6-a19c-52258b8a3e65');\n",
              "          const dataTable =\n",
              "            await google.colab.kernel.invokeFunction('convertToInteractive',\n",
              "                                                     [key], {});\n",
              "          if (!dataTable) return;\n",
              "\n",
              "          const docLinkHtml = 'Like what you see? Visit the ' +\n",
              "            '<a target=\"_blank\" href=https://colab.research.google.com/notebooks/data_table.ipynb>data table notebook</a>'\n",
              "            + ' to learn more about interactive tables.';\n",
              "          element.innerHTML = '';\n",
              "          dataTable['output_type'] = 'display_data';\n",
              "          await google.colab.output.renderOutput(dataTable, element);\n",
              "          const docLink = document.createElement('div');\n",
              "          docLink.innerHTML = docLinkHtml;\n",
              "          element.appendChild(docLink);\n",
              "        }\n",
              "      </script>\n",
              "    </div>\n",
              "  </div>\n",
              "  "
            ],
            "text/plain": [
              "                                                   body  \\\n",
              "0     hello and welcome to BBC News a woman who gave...   \n",
              "1     news now out of North Hollywood. A 14 yearold ...   \n",
              "2     homelessness his city's greatest failure. That...   \n",
              "3     Minneapolis police officer Kim Potter guilty o...   \n",
              "4     Judy an update now to the wildfires that wiped...   \n",
              "...                                                 ...   \n",
              "5136  News. More local help will soon be on the way....   \n",
              "5137  with March 1, we start what is called Meteorol...   \n",
              "5138  overseas. A massive Russian convoy is headed t...   \n",
              "5139  And this morning, the National Hockey League s...   \n",
              "5140  thank you very much. Also this morning, the Un...   \n",
              "\n",
              "                                                  topic  \\\n",
              "0     ['83a09c6b-5f2f-421f-ae50-b38acca7e008', '9ff5...   \n",
              "1              ['9ff54ded-904b-4e0c-85ce-a3617f5cb913']   \n",
              "2     ['83a09c6b-5f2f-421f-ae50-b38acca7e008', '74e2...   \n",
              "3     ['83a09c6b-5f2f-421f-ae50-b38acca7e008', '9ff5...   \n",
              "4     ['9ff54ded-904b-4e0c-85ce-a3617f5cb913', '9a06...   \n",
              "...                                                 ...   \n",
              "5136  ['9ff54ded-904b-4e0c-85ce-a3617f5cb913', '9632...   \n",
              "5137           ['9a06646a-e1df-4fca-888e-69658420556b']   \n",
              "5138           ['9ff54ded-904b-4e0c-85ce-a3617f5cb913']   \n",
              "5139  ['9ff54ded-904b-4e0c-85ce-a3617f5cb913', 'b492...   \n",
              "5140  ['83a09c6b-5f2f-421f-ae50-b38acca7e008', '9ff5...   \n",
              "\n",
              "                                                cleaned  \\\n",
              "0     hello welcome bbc news woman gave key evidence...   \n",
              "1     news north hollywood yearold girl found dead i...   \n",
              "2     homelessness city greatest failure message ton...   \n",
              "3     minneapolis police officer kim potter guilty d...   \n",
              "4     judy update wildfire wiped entire neighborhood...   \n",
              "...                                                 ...   \n",
              "5136  news local help soon way group volunteer yonke...   \n",
              "5137  march start called meteorological spring keep ...   \n",
              "5138  overseas massive russian convoy headed toward ...   \n",
              "5139  morning national hockey league say suspending ...   \n",
              "5140  thank much also morning united state asking tw...   \n",
              "\n",
              "                                              tokenized  \n",
              "0     [hello, welcome, bbc, news, woman, gave, key, ...  \n",
              "1     [news, north, hollywood, yearold, girl, found,...  \n",
              "2     [homelessness, city, greatest, failure, messag...  \n",
              "3     [minneapolis, police, officer, kim, potter, gu...  \n",
              "4     [judy, update, wildfire, wiped, entire, neighb...  \n",
              "...                                                 ...  \n",
              "5136  [news, local, help, soon, way, group, voluntee...  \n",
              "5137  [march, start, called, meteorological, spring,...  \n",
              "5138  [overseas, massive, russian, convoy, headed, t...  \n",
              "5139  [morning, national, hockey, league, say, suspe...  \n",
              "5140  [thank, much, also, morning, united, state, as...  \n",
              "\n",
              "[5141 rows x 4 columns]"
            ]
          },
          "execution_count": 13,
          "metadata": {},
          "output_type": "execute_result"
        }
      ],
      "source": [
        "df"
      ]
    },
    {
      "cell_type": "code",
      "execution_count": 14,
      "metadata": {
        "id": "bbUBfF8aTLZ2"
      },
      "outputs": [],
      "source": [
        "for indx, text in enumerate(df['cleaned']):\n",
        "    df['cleaned'][indx] = str(text)\n"
      ]
    },
    {
      "attachments": {},
      "cell_type": "markdown",
      "metadata": {},
      "source": [
        "### find SVM model with best hyper parameters"
      ]
    },
    {
      "cell_type": "code",
      "execution_count": 15,
      "metadata": {
        "colab": {
          "base_uri": "https://localhost:8080/"
        },
        "id": "N3mA7kTFShYf",
        "outputId": "691eb5d1-54e4-4212-8cb6-fefaf7214bd8"
      },
      "outputs": [
        {
          "name": "stdout",
          "output_type": "stream",
          "text": [
            "Accuracy: 0.45286686103012636\n",
            "Precision: 0.3648853613097924\n",
            "Recall: 0.45286686103012636\n",
            "F1-score: 0.3693843802038233\n",
            "[129 129]\n"
          ]
        },
        {
          "name": "stderr",
          "output_type": "stream",
          "text": [
            "/usr/local/lib/python3.10/dist-packages/sklearn/metrics/_classification.py:1344: UndefinedMetricWarning: Precision is ill-defined and being set to 0.0 in labels with no predicted samples. Use `zero_division` parameter to control this behavior.\n",
            "  _warn_prf(average, modifier, msg_start, len(result))\n"
          ]
        }
      ],
      "source": [
        "from sklearn.model_selection import train_test_split\n",
        "from sklearn.feature_extraction.text import TfidfVectorizer\n",
        "from sklearn.svm import SVC\n",
        "from sklearn.metrics import accuracy_score, precision_score, recall_score, f1_score\n",
        "from sklearn.preprocessing import LabelEncoder\n",
        "\n",
        "\n",
        "\n",
        "#  Feature Extraction\n",
        "vectorizer = TfidfVectorizer()  # You can customize the vectorizer parameters if needed\n",
        "X = vectorizer.fit_transform(df['cleaned'])\n",
        "y = df['topic']\n",
        "# y = pd.get_dummies(y)\n",
        "# y = OneHotEncoder(y)\n",
        "#  Encode the target variable\n",
        "label_encoder = LabelEncoder()\n",
        "y = label_encoder.fit_transform(y)\n",
        "\n",
        "#  Splitting the Data\n",
        "X_train, X_test, y_train, y_test = train_test_split(X, y, test_size=0.2, random_state=42)\n",
        "\n",
        " Training the Classifier\n",
        "classifier = SVC()  # You can try different classifiers or tune the parameters\n",
        "classifier.fit(X_train, y_train)\n",
        "\n",
        "#  Model Evaluation\n",
        "y_pred = classifier.predict(X_test)\n",
        "\n",
        "accuracy = accuracy_score(y_test, y_pred)\n",
        "precision = precision_score(y_test, y_pred, average='weighted')\n",
        "recall = recall_score(y_test, y_pred, average='weighted')\n",
        "f1 = f1_score(y_test, y_pred, average='weighted')\n",
        "\n",
        "print(f\"Accuracy: {accuracy}\")\n",
        "print(f\"Precision: {precision}\")\n",
        "print(f\"Recall: {recall}\")\n",
        "print(f\"F1-score: {f1}\")\n",
        "\n",
        "\n",
        "#  Prediction for New Data\n",
        "# Use the trained classifier to predict topics for new, unseen data\n",
        "new_data = [\"This is a new text to classify.\", \"Another example for topic classification.\"]\n",
        "new_data_features = vectorizer.transform(new_data)\n",
        "predicted_topics = classifier.predict(new_data_features)\n",
        "print(predicted_topics)"
      ]
    },
    {
      "cell_type": "code",
      "execution_count": 16,
      "metadata": {
        "colab": {
          "base_uri": "https://localhost:8080/"
        },
        "id": "PldVYvS86hoM",
        "outputId": "5560672f-14f1-491d-f6e0-6e86ef6ee3ad"
      },
      "outputs": [
        {
          "name": "stderr",
          "output_type": "stream",
          "text": [
            "/usr/local/lib/python3.10/dist-packages/sklearn/model_selection/_split.py:700: UserWarning: The least populated class in y has only 1 members, which is less than n_splits=5.\n",
            "  warnings.warn(\n"
          ]
        },
        {
          "name": "stdout",
          "output_type": "stream",
          "text": [
            "Best Parameters: {'C': 2, 'kernel': 'sigmoid'}\n",
            "Best Score: 0.48735177515055306\n",
            "Accuracy: 0.4878522837706511\n",
            "Precision: 0.410812936316143\n",
            "Recall: 0.4878522837706511\n",
            "F1-score: 0.4356163800198112\n",
            "[129  81]\n"
          ]
        },
        {
          "name": "stderr",
          "output_type": "stream",
          "text": [
            "/usr/local/lib/python3.10/dist-packages/sklearn/metrics/_classification.py:1344: UndefinedMetricWarning: Precision is ill-defined and being set to 0.0 in labels with no predicted samples. Use `zero_division` parameter to control this behavior.\n",
            "  _warn_prf(average, modifier, msg_start, len(result))\n",
            "/usr/local/lib/python3.10/dist-packages/sklearn/metrics/_classification.py:1344: UndefinedMetricWarning: Recall is ill-defined and being set to 0.0 in labels with no true samples. Use `zero_division` parameter to control this behavior.\n",
            "  _warn_prf(average, modifier, msg_start, len(result))\n"
          ]
        }
      ],
      "source": [
        "import pandas as pd\n",
        "from sklearn.model_selection import train_test_split, GridSearchCV\n",
        "from sklearn.feature_extraction.text import TfidfVectorizer\n",
        "from sklearn.svm import SVC\n",
        "\n",
        "\n",
        "\n",
        "#  Feature Extraction\n",
        "vectorizer = TfidfVectorizer()  # You can customize the vectorizer parameters if needed\n",
        "X = vectorizer.fit_transform(df['cleaned'])\n",
        "y = df['topic']\n",
        "\n",
        "label_encoder = LabelEncoder()\n",
        "y = label_encoder.fit_transform(y)\n",
        "#  Splitting the Data\n",
        "X_train, X_test, y_train, y_test = train_test_split(X, y, test_size=0.2, random_state=42)\n",
        "\n",
        "# Step 4: Define the parameter grid\n",
        "param_grid = {\n",
        "    'C': [0.1, 0.5, 1, 2, 5, 10],\n",
        "    'kernel': ['linear', 'rbf', 'sigmoid'],\n",
        "}\n",
        "\n",
        "#  Perform grid search\n",
        "classifier = SVC()\n",
        "grid_search = GridSearchCV(classifier, param_grid, cv=5)\n",
        "grid_search.fit(X_train, y_train)\n",
        "\n",
        "# Retrieve the best parameters and score\n",
        "best_params = grid_search.best_params_\n",
        "best_score = grid_search.best_score_\n",
        "\n",
        "print(\"Best Parameters:\", best_params)\n",
        "print(\"Best Score:\", best_score)\n",
        "\n",
        "# Evaluate with best parameters\n",
        "classifier = SVC(**best_params)\n",
        "classifier.fit(X_train, y_train)\n",
        "y_pred = classifier.predict(X_test)\n",
        "\n",
        "\n",
        "accuracy = accuracy_score(y_test, y_pred)\n",
        "precision = precision_score(y_test, y_pred, average='weighted')\n",
        "recall = recall_score(y_test, y_pred, average='weighted')\n",
        "f1 = f1_score(y_test, y_pred, average='weighted')\n",
        "\n",
        "print(f\"Accuracy: {accuracy}\")\n",
        "print(f\"Precision: {precision}\")\n",
        "print(f\"Recall: {recall}\")\n",
        "print(f\"F1-score: {f1}\")\n",
        "\n",
        "\n",
        "#  Prediction for New Data\n",
        "# Use the trained classifier to predict topics for new, unseen data\n",
        "new_data = [\"This is a new text to classify.\", \"Another example for topic classification.\"]\n",
        "new_data_features = vectorizer.transform(new_data)\n",
        "predicted_topics = classifier.predict(new_data_features)\n",
        "print(predicted_topics)"
      ]
    },
    {
      "attachments": {},
      "cell_type": "markdown",
      "metadata": {},
      "source": [
        "### save model"
      ]
    },
    {
      "cell_type": "code",
      "execution_count": 17,
      "metadata": {
        "colab": {
          "base_uri": "https://localhost:8080/"
        },
        "id": "etugDEfieiEX",
        "outputId": "1ee68d49-6895-4165-940f-5f31974f3b74"
      },
      "outputs": [
        {
          "data": {
            "text/plain": [
              "['svm_model.joblib']"
            ]
          },
          "execution_count": 17,
          "metadata": {},
          "output_type": "execute_result"
        }
      ],
      "source": [
        "from joblib import dump, load\n",
        "\n",
        "dump(best_params, 'svm_model.joblib')"
      ]
    },
    {
      "attachments": {},
      "cell_type": "markdown",
      "metadata": {},
      "source": [
        "### SVM model with gloves embedding"
      ]
    },
    {
      "cell_type": "code",
      "execution_count": 18,
      "metadata": {
        "colab": {
          "base_uri": "https://localhost:8080/"
        },
        "id": "5HszHzbLI9J-",
        "outputId": "7c1c857b-2530-486e-ccf1-0b47ccb5239c"
      },
      "outputs": [
        {
          "name": "stdout",
          "output_type": "stream",
          "text": [
            "Accuracy: 0.43440233236151604\n",
            "Precision: 0.3111460919385393\n",
            "Recall: 0.43440233236151604\n",
            "F1-score: 0.34203745291801\n"
          ]
        },
        {
          "name": "stderr",
          "output_type": "stream",
          "text": [
            "/usr/local/lib/python3.10/dist-packages/sklearn/metrics/_classification.py:1344: UndefinedMetricWarning: Precision is ill-defined and being set to 0.0 in labels with no predicted samples. Use `zero_division` parameter to control this behavior.\n",
            "  _warn_prf(average, modifier, msg_start, len(result))\n"
          ]
        }
      ],
      "source": [
        "import pandas as pd\n",
        "from sklearn.model_selection import train_test_split\n",
        "from sklearn.svm import SVC\n",
        "from sklearn.metrics import accuracy_score, precision_score, recall_score, f1_score\n",
        "import numpy as np\n",
        "from nltk.tokenize import word_tokenize\n",
        "from nltk.corpus import stopwords\n",
        "import string\n",
        "\n",
        "\n",
        "\n",
        "#  Load pre-trained GloVe embeddings from file\n",
        "glove_file = '/content/drive/MyDrive/emotion detection/data/glove.6B.50d.txt'\n",
        "\n",
        "\n",
        "word_embeddings = {}\n",
        "with open(glove_file, 'r', encoding='utf8') as f:\n",
        "    for line in f:\n",
        "        values = line.strip().split()\n",
        "        word = values[0]\n",
        "        embedding = np.array(values[1:], dtype=np.float32)\n",
        "        word_embeddings[word] = embedding\n",
        "\n",
        "# Splitting the Data\n",
        "X = df['cleaned']\n",
        "y = df['topic']\n",
        "label_encoder = LabelEncoder()\n",
        "y = label_encoder.fit_transform(y)\n",
        "\n",
        "X_train, X_test, y_train, y_test = train_test_split(X, y, test_size=0.2, random_state=42)\n",
        "\n",
        "# Tokenization and Convert text data to GloVe embeddings\n",
        "# stop_words = set(stopwords.words('english'))\n",
        "\n",
        "def preprocess_text(text):\n",
        "    # Tokenize the text\n",
        "    tokens = word_tokenize(text)\n",
        "    # Remove punctuation and convert to lowercase\n",
        "    # Remove stop words\n",
        "    return tokens\n",
        "\n",
        "def text_to_embeddings(text):\n",
        "    tokens = preprocess_text(text)\n",
        "    embeddings = []\n",
        "    if tokens:\n",
        "        for token in tokens:\n",
        "            if token in word_embeddings:\n",
        "                embeddings.append(word_embeddings[token])\n",
        "    if embeddings:\n",
        "        return np.mean(embeddings, axis=0)\n",
        "    else:\n",
        "        # Handle out-of-vocabulary words\n",
        "        return np.zeros_like(list(word_embeddings.values())[0])\n",
        "\n",
        "X_train_embeddings = [text_to_embeddings(text) for text in X_train]\n",
        "X_test_embeddings = [text_to_embeddings(text) for text in X_test]\n",
        "\n",
        "# Train the classifier with GloVe embeddings\n",
        "classifier = SVC()\n",
        "classifier.fit(X_train_embeddings, y_train)\n",
        "\n",
        "# Make predictions on the test data\n",
        "y_pred = classifier.predict(X_test_embeddings)\n",
        "\n",
        "# Calculate evaluation metrics\n",
        "accuracy = accuracy_score(y_test, y_pred)\n",
        "precision = precision_score(y_test, y_pred, average='weighted')\n",
        "recall = recall_score(y_test, y_pred, average='weighted')\n",
        "f1 = f1_score(y_test, y_pred, average='weighted')\n",
        "\n",
        "print(\"Accuracy:\", accuracy)\n",
        "print(\"Precision:\", precision)\n",
        "print(\"Recall:\", recall)\n",
        "print(\"F1-score:\", f1)"
      ]
    }
  ],
  "metadata": {
    "accelerator": "GPU",
    "colab": {
      "gpuType": "T4",
      "provenance": []
    },
    "gpuClass": "standard",
    "kernelspec": {
      "display_name": "Python 3",
      "name": "python3"
    },
    "language_info": {
      "name": "python"
    }
  },
  "nbformat": 4,
  "nbformat_minor": 0
}
